{
 "cells": [
  {
   "cell_type": "markdown",
   "metadata": {},
   "source": [
    "# Unit 5 - Financial Planning"
   ]
  },
  {
   "cell_type": "code",
   "execution_count": 1,
   "metadata": {},
   "outputs": [],
   "source": [
    "# Initial imports\n",
    "import os\n",
    "import requests\n",
    "import pandas as pd\n",
    "import json\n",
    "from dotenv import load_dotenv\n",
    "import alpaca_trade_api as tradeapi\n",
    "\n",
    "\n",
    "%matplotlib inline"
   ]
  },
  {
   "cell_type": "code",
   "execution_count": 2,
   "metadata": {},
   "outputs": [
    {
     "data": {
      "text/plain": [
       "True"
      ]
     },
     "execution_count": 2,
     "metadata": {},
     "output_type": "execute_result"
    }
   ],
   "source": [
    "# Load .env enviroment variables\n",
    "load_dotenv()"
   ]
  },
  {
   "cell_type": "markdown",
   "metadata": {},
   "source": [
    "## Part 1 - Personal Finance Planner"
   ]
  },
  {
   "cell_type": "markdown",
   "metadata": {},
   "source": [
    "### Collect Crypto Prices Using the `requests` Library"
   ]
  },
  {
   "cell_type": "code",
   "execution_count": 3,
   "metadata": {},
   "outputs": [],
   "source": [
    "# Set current amount of crypto assets\n",
    "my_btc = 1.2\n",
    "my_eth = 5.3"
   ]
  },
  {
   "cell_type": "code",
   "execution_count": 4,
   "metadata": {},
   "outputs": [],
   "source": [
    "# Crypto API URLs\n",
    "btc_url = \"https://api.alternative.me/v2/ticker/Bitcoin/?convert=CAD\"\n",
    "eth_url = \"https://api.alternative.me/v2/ticker/Ethereum/?convert=CAD\""
   ]
  },
  {
   "cell_type": "code",
   "execution_count": 5,
   "metadata": {},
   "outputs": [
    {
     "data": {
      "text/plain": [
       "{'data': {'1': {'id': 1,\n",
       "   'name': 'Bitcoin',\n",
       "   'symbol': 'BTC',\n",
       "   'website_slug': 'bitcoin',\n",
       "   'rank': 1,\n",
       "   'circulating_supply': 18739875,\n",
       "   'total_supply': 18739875,\n",
       "   'max_supply': 21000000,\n",
       "   'quotes': {'USD': {'price': 32156.0,\n",
       "     'volume_24h': 45773755910,\n",
       "     'market_cap': 603132505432,\n",
       "     'percentage_change_1h': -1.97847050006115,\n",
       "     'percentage_change_24h': -5.91779810200792,\n",
       "     'percentage_change_7d': -17.8610056462345,\n",
       "     'percent_change_1h': -1.97847050006115,\n",
       "     'percent_change_24h': -5.91779810200792,\n",
       "     'percent_change_7d': -17.8610056462345},\n",
       "    'CAD': {'price': 39937.752,\n",
       "     'volume_24h': 56851004840.22,\n",
       "     'market_cap': 749090571746.544,\n",
       "     'percent_change_1h': -1.97847050006115,\n",
       "     'percent_change_24h': -5.91779810200792,\n",
       "     'percent_change_7d': -17.8610056462345}},\n",
       "   'last_updated': 1624274688}},\n",
       " 'metadata': {'timestamp': 1624274688,\n",
       "  'num_cryptocurrencies': 1282,\n",
       "  'error': None}}"
      ]
     },
     "execution_count": 5,
     "metadata": {},
     "output_type": "execute_result"
    }
   ],
   "source": [
    "# Fetch current BTC price\n",
    "\n",
    "requests.get(btc_url)\n",
    "\n",
    "# Fetch current ETH price\n",
    "\n",
    "requests.get(eth_url)\n",
    "\n",
    "# Compute current value of my crpto\n",
    "# [200] response means good code.\n",
    "\n",
    "btc = requests.get(btc_url)\n",
    "eth = requests.get(eth_url)\n",
    "data_btc = btc.json()\n",
    "data_eth = eth.json()\n",
    "data_btc"
   ]
  },
  {
   "cell_type": "code",
   "execution_count": 6,
   "metadata": {},
   "outputs": [
    {
     "data": {
      "text/plain": [
       "dict_keys(['data', 'metadata'])"
      ]
     },
     "execution_count": 6,
     "metadata": {},
     "output_type": "execute_result"
    }
   ],
   "source": [
    "data_btc.keys()"
   ]
  },
  {
   "cell_type": "code",
   "execution_count": 7,
   "metadata": {},
   "outputs": [
    {
     "data": {
      "text/plain": [
       "dict_keys(['1'])"
      ]
     },
     "execution_count": 7,
     "metadata": {},
     "output_type": "execute_result"
    }
   ],
   "source": [
    "data_btc[\"data\"].keys()"
   ]
  },
  {
   "cell_type": "code",
   "execution_count": 8,
   "metadata": {},
   "outputs": [
    {
     "data": {
      "text/plain": [
       "{'id': 1,\n",
       " 'name': 'Bitcoin',\n",
       " 'symbol': 'BTC',\n",
       " 'website_slug': 'bitcoin',\n",
       " 'rank': 1,\n",
       " 'circulating_supply': 18739875,\n",
       " 'total_supply': 18739875,\n",
       " 'max_supply': 21000000,\n",
       " 'quotes': {'USD': {'price': 32156.0,\n",
       "   'volume_24h': 45773755910,\n",
       "   'market_cap': 603132505432,\n",
       "   'percentage_change_1h': -1.97847050006115,\n",
       "   'percentage_change_24h': -5.91779810200792,\n",
       "   'percentage_change_7d': -17.8610056462345,\n",
       "   'percent_change_1h': -1.97847050006115,\n",
       "   'percent_change_24h': -5.91779810200792,\n",
       "   'percent_change_7d': -17.8610056462345},\n",
       "  'CAD': {'price': 39937.752,\n",
       "   'volume_24h': 56851004840.22,\n",
       "   'market_cap': 749090571746.544,\n",
       "   'percent_change_1h': -1.97847050006115,\n",
       "   'percent_change_24h': -5.91779810200792,\n",
       "   'percent_change_7d': -17.8610056462345}},\n",
       " 'last_updated': 1624274688}"
      ]
     },
     "execution_count": 8,
     "metadata": {},
     "output_type": "execute_result"
    }
   ],
   "source": [
    "data_btc[\"data\"] [\"1\"]"
   ]
  },
  {
   "cell_type": "code",
   "execution_count": 9,
   "metadata": {},
   "outputs": [
    {
     "data": {
      "text/plain": [
       "{'USD': {'price': 32156.0,\n",
       "  'volume_24h': 45773755910,\n",
       "  'market_cap': 603132505432,\n",
       "  'percentage_change_1h': -1.97847050006115,\n",
       "  'percentage_change_24h': -5.91779810200792,\n",
       "  'percentage_change_7d': -17.8610056462345,\n",
       "  'percent_change_1h': -1.97847050006115,\n",
       "  'percent_change_24h': -5.91779810200792,\n",
       "  'percent_change_7d': -17.8610056462345},\n",
       " 'CAD': {'price': 39937.752,\n",
       "  'volume_24h': 56851004840.22,\n",
       "  'market_cap': 749090571746.544,\n",
       "  'percent_change_1h': -1.97847050006115,\n",
       "  'percent_change_24h': -5.91779810200792,\n",
       "  'percent_change_7d': -17.8610056462345}}"
      ]
     },
     "execution_count": 9,
     "metadata": {},
     "output_type": "execute_result"
    }
   ],
   "source": [
    "data_btc[\"data\"][\"1\"][\"quotes\"]"
   ]
  },
  {
   "cell_type": "code",
   "execution_count": 10,
   "metadata": {},
   "outputs": [
    {
     "data": {
      "text/plain": [
       "dict_keys(['USD', 'CAD'])"
      ]
     },
     "execution_count": 10,
     "metadata": {},
     "output_type": "execute_result"
    }
   ],
   "source": [
    "data_btc[\"data\"][\"1\"][\"quotes\"].keys()"
   ]
  },
  {
   "cell_type": "code",
   "execution_count": 11,
   "metadata": {},
   "outputs": [
    {
     "data": {
      "text/plain": [
       "{'price': 39937.752,\n",
       " 'volume_24h': 56851004840.22,\n",
       " 'market_cap': 749090571746.544,\n",
       " 'percent_change_1h': -1.97847050006115,\n",
       " 'percent_change_24h': -5.91779810200792,\n",
       " 'percent_change_7d': -17.8610056462345}"
      ]
     },
     "execution_count": 11,
     "metadata": {},
     "output_type": "execute_result"
    }
   ],
   "source": [
    "data_btc[\"data\"][\"1\"][\"quotes\"]['CAD']"
   ]
  },
  {
   "cell_type": "code",
   "execution_count": 12,
   "metadata": {},
   "outputs": [
    {
     "data": {
      "text/plain": [
       "39937.752"
      ]
     },
     "execution_count": 12,
     "metadata": {},
     "output_type": "execute_result"
    }
   ],
   "source": [
    "data_btc[\"data\"][\"1\"][\"quotes\"]['CAD']['price']\n",
    "btc_price = data_btc[\"data\"][\"1\"][\"quotes\"]['CAD']['price']\n",
    "btc_price"
   ]
  },
  {
   "cell_type": "code",
   "execution_count": 13,
   "metadata": {},
   "outputs": [
    {
     "data": {
      "text/plain": [
       "{'data': {'1027': {'id': 1027,\n",
       "   'name': 'Ethereum',\n",
       "   'symbol': 'ETH',\n",
       "   'website_slug': 'ethereum',\n",
       "   'rank': 2,\n",
       "   'circulating_supply': 116380525,\n",
       "   'total_supply': 116380525,\n",
       "   'max_supply': 0,\n",
       "   'quotes': {'USD': {'price': 1925.46,\n",
       "     'volume_24h': 32919712031,\n",
       "     'market_cap': 224817028341,\n",
       "     'percentage_change_1h': -3.96020417417576,\n",
       "     'percentage_change_24h': -8.18031021733356,\n",
       "     'percentage_change_7d': -23.5253201762786,\n",
       "     'percent_change_1h': -3.96020417417576,\n",
       "     'percent_change_24h': -8.18031021733356,\n",
       "     'percent_change_7d': -23.5253201762786},\n",
       "    'CAD': {'price': 2391.42132,\n",
       "     'volume_24h': 40886282342.502,\n",
       "     'market_cap': 279222749199.522,\n",
       "     'percent_change_1h': -3.96020417417576,\n",
       "     'percent_change_24h': -8.18031021733356,\n",
       "     'percent_change_7d': -23.5253201762786}},\n",
       "   'last_updated': 1624274693}},\n",
       " 'metadata': {'timestamp': 1624274693,\n",
       "  'num_cryptocurrencies': 1282,\n",
       "  'error': None}}"
      ]
     },
     "execution_count": 13,
     "metadata": {},
     "output_type": "execute_result"
    }
   ],
   "source": [
    "data_eth"
   ]
  },
  {
   "cell_type": "code",
   "execution_count": 14,
   "metadata": {},
   "outputs": [
    {
     "data": {
      "text/plain": [
       "dict_keys(['data', 'metadata'])"
      ]
     },
     "execution_count": 14,
     "metadata": {},
     "output_type": "execute_result"
    }
   ],
   "source": [
    "data_eth.keys()"
   ]
  },
  {
   "cell_type": "code",
   "execution_count": 15,
   "metadata": {},
   "outputs": [
    {
     "data": {
      "text/plain": [
       "dict_keys(['1027'])"
      ]
     },
     "execution_count": 15,
     "metadata": {},
     "output_type": "execute_result"
    }
   ],
   "source": [
    "data_eth[\"data\"].keys()"
   ]
  },
  {
   "cell_type": "code",
   "execution_count": 16,
   "metadata": {},
   "outputs": [
    {
     "data": {
      "text/plain": [
       "dict_keys(['id', 'name', 'symbol', 'website_slug', 'rank', 'circulating_supply', 'total_supply', 'max_supply', 'quotes', 'last_updated'])"
      ]
     },
     "execution_count": 16,
     "metadata": {},
     "output_type": "execute_result"
    }
   ],
   "source": [
    "data_eth[\"data\"][\"1027\"].keys()"
   ]
  },
  {
   "cell_type": "code",
   "execution_count": 17,
   "metadata": {},
   "outputs": [
    {
     "data": {
      "text/plain": [
       "2391.42132"
      ]
     },
     "execution_count": 17,
     "metadata": {},
     "output_type": "execute_result"
    }
   ],
   "source": [
    "data_eth[\"data\"][\"1027\"][\"quotes\"][\"CAD\"][\"price\"]"
   ]
  },
  {
   "cell_type": "code",
   "execution_count": 18,
   "metadata": {},
   "outputs": [
    {
     "data": {
      "text/plain": [
       "2391.42132"
      ]
     },
     "execution_count": 18,
     "metadata": {},
     "output_type": "execute_result"
    }
   ],
   "source": [
    "eth_price = data_eth[\"data\"][\"1027\"][\"quotes\"][\"CAD\"][\"price\"]\n",
    "eth_price"
   ]
  },
  {
   "cell_type": "code",
   "execution_count": 19,
   "metadata": {},
   "outputs": [
    {
     "name": "stdout",
     "output_type": "stream",
     "text": [
      "The current value of your BTC is $47925.30\n",
      "The current value of your ETH is $12674.53\n"
     ]
    }
   ],
   "source": [
    "# Print current crypto wallet balance\n",
    "\n",
    "btc_value = btc_price * my_btc\n",
    "eth_value = eth_price * my_eth\n",
    "\n",
    "print(f\"The current value of your BTC is ${btc_value:0.2f}\")\n",
    "print(f\"The current value of your ETH is ${eth_value:0.2f}\")"
   ]
  },
  {
   "cell_type": "markdown",
   "metadata": {},
   "source": [
    "### Collect Investments Data Using Alpaca: `SPY` (stocks) and `AGG` (bonds)"
   ]
  },
  {
   "cell_type": "code",
   "execution_count": 20,
   "metadata": {},
   "outputs": [],
   "source": [
    "# Set current amount of shares\n",
    "\n",
    "my_agg = 200\n",
    "my_spy = 50"
   ]
  },
  {
   "cell_type": "code",
   "execution_count": 21,
   "metadata": {},
   "outputs": [
    {
     "name": "stdout",
     "output_type": "stream",
     "text": [
      "Alpaca Key type: <class 'str'>\n",
      "Alpaca Secret Key type: <class 'str'>\n"
     ]
    }
   ],
   "source": [
    "# Set Alpaca API key and secret\n",
    "\n",
    "alpaca_api_key = os.getenv(\"ALPACA_API_KEY\")\n",
    "\n",
    "\n",
    "alpaca_secret_api_key = os.getenv(\"ALPACA_SECRET_KEY\")\n",
    "\n",
    "\n",
    "print(f\"Alpaca Key type: {type(alpaca_api_key)}\")\n",
    "print(f\"Alpaca Secret Key type: {type(alpaca_secret_api_key)}\")\n",
    "\n",
    "# Create the Alpaca API object\n",
    "\n",
    "alpaca = tradeapi.REST(\n",
    "    alpaca_api_key,\n",
    "    alpaca_secret_api_key,\n",
    "    api_version=\"v2\")"
   ]
  },
  {
   "cell_type": "code",
   "execution_count": 22,
   "metadata": {},
   "outputs": [],
   "source": [
    "import datetime"
   ]
  },
  {
   "cell_type": "code",
   "execution_count": 23,
   "metadata": {},
   "outputs": [
    {
     "data": {
      "text/html": [
       "<div>\n",
       "<style scoped>\n",
       "    .dataframe tbody tr th:only-of-type {\n",
       "        vertical-align: middle;\n",
       "    }\n",
       "\n",
       "    .dataframe tbody tr th {\n",
       "        vertical-align: top;\n",
       "    }\n",
       "\n",
       "    .dataframe thead tr th {\n",
       "        text-align: left;\n",
       "    }\n",
       "\n",
       "    .dataframe thead tr:last-of-type th {\n",
       "        text-align: right;\n",
       "    }\n",
       "</style>\n",
       "<table border=\"1\" class=\"dataframe\">\n",
       "  <thead>\n",
       "    <tr>\n",
       "      <th></th>\n",
       "      <th colspan=\"5\" halign=\"left\">AGG</th>\n",
       "      <th colspan=\"5\" halign=\"left\">SPY</th>\n",
       "    </tr>\n",
       "    <tr>\n",
       "      <th></th>\n",
       "      <th>open</th>\n",
       "      <th>high</th>\n",
       "      <th>low</th>\n",
       "      <th>close</th>\n",
       "      <th>volume</th>\n",
       "      <th>open</th>\n",
       "      <th>high</th>\n",
       "      <th>low</th>\n",
       "      <th>close</th>\n",
       "      <th>volume</th>\n",
       "    </tr>\n",
       "    <tr>\n",
       "      <th>time</th>\n",
       "      <th></th>\n",
       "      <th></th>\n",
       "      <th></th>\n",
       "      <th></th>\n",
       "      <th></th>\n",
       "      <th></th>\n",
       "      <th></th>\n",
       "      <th></th>\n",
       "      <th></th>\n",
       "      <th></th>\n",
       "    </tr>\n",
       "  </thead>\n",
       "  <tbody>\n",
       "    <tr>\n",
       "      <th>2017-06-28 00:00:00-04:00</th>\n",
       "      <td>109.850</td>\n",
       "      <td>109.8800</td>\n",
       "      <td>109.680</td>\n",
       "      <td>109.850</td>\n",
       "      <td>12016805.0</td>\n",
       "      <td>NaN</td>\n",
       "      <td>NaN</td>\n",
       "      <td>NaN</td>\n",
       "      <td>NaN</td>\n",
       "      <td>NaN</td>\n",
       "    </tr>\n",
       "    <tr>\n",
       "      <th>2017-06-29 00:00:00-04:00</th>\n",
       "      <td>109.530</td>\n",
       "      <td>109.6800</td>\n",
       "      <td>109.465</td>\n",
       "      <td>109.640</td>\n",
       "      <td>2457876.0</td>\n",
       "      <td>243.66</td>\n",
       "      <td>243.7200</td>\n",
       "      <td>239.955</td>\n",
       "      <td>241.39</td>\n",
       "      <td>87799860.0</td>\n",
       "    </tr>\n",
       "    <tr>\n",
       "      <th>2017-06-30 00:00:00-04:00</th>\n",
       "      <td>109.620</td>\n",
       "      <td>109.6273</td>\n",
       "      <td>109.460</td>\n",
       "      <td>109.490</td>\n",
       "      <td>2201175.0</td>\n",
       "      <td>242.26</td>\n",
       "      <td>242.7100</td>\n",
       "      <td>241.575</td>\n",
       "      <td>241.77</td>\n",
       "      <td>50347309.0</td>\n",
       "    </tr>\n",
       "    <tr>\n",
       "      <th>2017-07-03 00:00:00-04:00</th>\n",
       "      <td>109.300</td>\n",
       "      <td>109.3000</td>\n",
       "      <td>109.010</td>\n",
       "      <td>109.080</td>\n",
       "      <td>1681516.0</td>\n",
       "      <td>242.91</td>\n",
       "      <td>243.3800</td>\n",
       "      <td>242.290</td>\n",
       "      <td>242.32</td>\n",
       "      <td>27234078.0</td>\n",
       "    </tr>\n",
       "    <tr>\n",
       "      <th>2017-07-05 00:00:00-04:00</th>\n",
       "      <td>109.080</td>\n",
       "      <td>109.1800</td>\n",
       "      <td>109.000</td>\n",
       "      <td>109.150</td>\n",
       "      <td>2694196.0</td>\n",
       "      <td>242.62</td>\n",
       "      <td>243.0100</td>\n",
       "      <td>241.700</td>\n",
       "      <td>242.77</td>\n",
       "      <td>41067682.0</td>\n",
       "    </tr>\n",
       "    <tr>\n",
       "      <th>...</th>\n",
       "      <td>...</td>\n",
       "      <td>...</td>\n",
       "      <td>...</td>\n",
       "      <td>...</td>\n",
       "      <td>...</td>\n",
       "      <td>...</td>\n",
       "      <td>...</td>\n",
       "      <td>...</td>\n",
       "      <td>...</td>\n",
       "      <td>...</td>\n",
       "    </tr>\n",
       "    <tr>\n",
       "      <th>2021-06-14 00:00:00-04:00</th>\n",
       "      <td>115.180</td>\n",
       "      <td>115.1800</td>\n",
       "      <td>114.935</td>\n",
       "      <td>114.970</td>\n",
       "      <td>2999623.0</td>\n",
       "      <td>424.43</td>\n",
       "      <td>425.2900</td>\n",
       "      <td>423.100</td>\n",
       "      <td>425.29</td>\n",
       "      <td>33128340.0</td>\n",
       "    </tr>\n",
       "    <tr>\n",
       "      <th>2021-06-15 00:00:00-04:00</th>\n",
       "      <td>114.900</td>\n",
       "      <td>115.0200</td>\n",
       "      <td>114.870</td>\n",
       "      <td>114.995</td>\n",
       "      <td>5842592.0</td>\n",
       "      <td>425.43</td>\n",
       "      <td>425.4600</td>\n",
       "      <td>423.540</td>\n",
       "      <td>424.50</td>\n",
       "      <td>42885806.0</td>\n",
       "    </tr>\n",
       "    <tr>\n",
       "      <th>2021-06-16 00:00:00-04:00</th>\n",
       "      <td>115.070</td>\n",
       "      <td>115.1285</td>\n",
       "      <td>114.510</td>\n",
       "      <td>114.630</td>\n",
       "      <td>7527672.0</td>\n",
       "      <td>424.63</td>\n",
       "      <td>424.8700</td>\n",
       "      <td>419.920</td>\n",
       "      <td>422.12</td>\n",
       "      <td>73638324.0</td>\n",
       "    </tr>\n",
       "    <tr>\n",
       "      <th>2021-06-17 00:00:00-04:00</th>\n",
       "      <td>114.792</td>\n",
       "      <td>115.2500</td>\n",
       "      <td>114.785</td>\n",
       "      <td>114.990</td>\n",
       "      <td>7417691.0</td>\n",
       "      <td>421.67</td>\n",
       "      <td>423.0200</td>\n",
       "      <td>419.320</td>\n",
       "      <td>421.97</td>\n",
       "      <td>71991686.0</td>\n",
       "    </tr>\n",
       "    <tr>\n",
       "      <th>2021-06-18 00:00:00-04:00</th>\n",
       "      <td>115.050</td>\n",
       "      <td>115.3900</td>\n",
       "      <td>114.910</td>\n",
       "      <td>115.290</td>\n",
       "      <td>5438261.0</td>\n",
       "      <td>417.08</td>\n",
       "      <td>417.8281</td>\n",
       "      <td>414.700</td>\n",
       "      <td>415.01</td>\n",
       "      <td>92753385.0</td>\n",
       "    </tr>\n",
       "  </tbody>\n",
       "</table>\n",
       "<p>1001 rows × 10 columns</p>\n",
       "</div>"
      ],
      "text/plain": [
       "                               AGG                                          \\\n",
       "                              open      high      low    close      volume   \n",
       "time                                                                         \n",
       "2017-06-28 00:00:00-04:00  109.850  109.8800  109.680  109.850  12016805.0   \n",
       "2017-06-29 00:00:00-04:00  109.530  109.6800  109.465  109.640   2457876.0   \n",
       "2017-06-30 00:00:00-04:00  109.620  109.6273  109.460  109.490   2201175.0   \n",
       "2017-07-03 00:00:00-04:00  109.300  109.3000  109.010  109.080   1681516.0   \n",
       "2017-07-05 00:00:00-04:00  109.080  109.1800  109.000  109.150   2694196.0   \n",
       "...                            ...       ...      ...      ...         ...   \n",
       "2021-06-14 00:00:00-04:00  115.180  115.1800  114.935  114.970   2999623.0   \n",
       "2021-06-15 00:00:00-04:00  114.900  115.0200  114.870  114.995   5842592.0   \n",
       "2021-06-16 00:00:00-04:00  115.070  115.1285  114.510  114.630   7527672.0   \n",
       "2021-06-17 00:00:00-04:00  114.792  115.2500  114.785  114.990   7417691.0   \n",
       "2021-06-18 00:00:00-04:00  115.050  115.3900  114.910  115.290   5438261.0   \n",
       "\n",
       "                              SPY                                         \n",
       "                             open      high      low   close      volume  \n",
       "time                                                                      \n",
       "2017-06-28 00:00:00-04:00     NaN       NaN      NaN     NaN         NaN  \n",
       "2017-06-29 00:00:00-04:00  243.66  243.7200  239.955  241.39  87799860.0  \n",
       "2017-06-30 00:00:00-04:00  242.26  242.7100  241.575  241.77  50347309.0  \n",
       "2017-07-03 00:00:00-04:00  242.91  243.3800  242.290  242.32  27234078.0  \n",
       "2017-07-05 00:00:00-04:00  242.62  243.0100  241.700  242.77  41067682.0  \n",
       "...                           ...       ...      ...     ...         ...  \n",
       "2021-06-14 00:00:00-04:00  424.43  425.2900  423.100  425.29  33128340.0  \n",
       "2021-06-15 00:00:00-04:00  425.43  425.4600  423.540  424.50  42885806.0  \n",
       "2021-06-16 00:00:00-04:00  424.63  424.8700  419.920  422.12  73638324.0  \n",
       "2021-06-17 00:00:00-04:00  421.67  423.0200  419.320  421.97  71991686.0  \n",
       "2021-06-18 00:00:00-04:00  417.08  417.8281  414.700  415.01  92753385.0  \n",
       "\n",
       "[1001 rows x 10 columns]"
      ]
     },
     "execution_count": 23,
     "metadata": {},
     "output_type": "execute_result"
    }
   ],
   "source": [
    "# Format current date as ISO format\n",
    "\n",
    "today = datetime.date.today()\n",
    "\n",
    "# Set the tickers\n",
    "tickers = [\"AGG\", \"SPY\"]\n",
    "\n",
    "# Set timeframe to '1D' for Alpaca API\n",
    "\n",
    "timeframe = \"1D\"\n",
    "\n",
    "# Get current closing prices for SPY and AGG\n",
    "\n",
    "df_portfolio = alpaca.get_barset(\n",
    "    tickers,\n",
    "    timeframe,\n",
    "    start = today,\n",
    "    end = today\n",
    ").df\n",
    "\n",
    "# (use a limit=1000 parameter to call the most recent 1000 days of data)\n",
    "\n",
    "df_portfolio_1000 = alpaca.get_barset(\n",
    "    tickers,\n",
    "    timeframe,\n",
    "    start = today,\n",
    "    limit = 1000).df\n",
    "\n",
    "# Preview DataFrame\n",
    "\n",
    "df_portfolio_1000"
   ]
  },
  {
   "cell_type": "code",
   "execution_count": 24,
   "metadata": {},
   "outputs": [
    {
     "data": {
      "text/html": [
       "<div>\n",
       "<style scoped>\n",
       "    .dataframe tbody tr th:only-of-type {\n",
       "        vertical-align: middle;\n",
       "    }\n",
       "\n",
       "    .dataframe tbody tr th {\n",
       "        vertical-align: top;\n",
       "    }\n",
       "\n",
       "    .dataframe thead th {\n",
       "        text-align: right;\n",
       "    }\n",
       "</style>\n",
       "<table border=\"1\" class=\"dataframe\">\n",
       "  <thead>\n",
       "    <tr style=\"text-align: right;\">\n",
       "      <th></th>\n",
       "      <th>AGG</th>\n",
       "      <th>SPY</th>\n",
       "    </tr>\n",
       "  </thead>\n",
       "  <tbody>\n",
       "    <tr>\n",
       "      <th>2017-06-28</th>\n",
       "      <td>109.850</td>\n",
       "      <td>NaN</td>\n",
       "    </tr>\n",
       "    <tr>\n",
       "      <th>2017-06-29</th>\n",
       "      <td>109.640</td>\n",
       "      <td>241.39</td>\n",
       "    </tr>\n",
       "    <tr>\n",
       "      <th>2017-06-30</th>\n",
       "      <td>109.490</td>\n",
       "      <td>241.77</td>\n",
       "    </tr>\n",
       "    <tr>\n",
       "      <th>2017-07-03</th>\n",
       "      <td>109.080</td>\n",
       "      <td>242.32</td>\n",
       "    </tr>\n",
       "    <tr>\n",
       "      <th>2017-07-05</th>\n",
       "      <td>109.150</td>\n",
       "      <td>242.77</td>\n",
       "    </tr>\n",
       "    <tr>\n",
       "      <th>...</th>\n",
       "      <td>...</td>\n",
       "      <td>...</td>\n",
       "    </tr>\n",
       "    <tr>\n",
       "      <th>2021-06-14</th>\n",
       "      <td>114.970</td>\n",
       "      <td>425.29</td>\n",
       "    </tr>\n",
       "    <tr>\n",
       "      <th>2021-06-15</th>\n",
       "      <td>114.995</td>\n",
       "      <td>424.50</td>\n",
       "    </tr>\n",
       "    <tr>\n",
       "      <th>2021-06-16</th>\n",
       "      <td>114.630</td>\n",
       "      <td>422.12</td>\n",
       "    </tr>\n",
       "    <tr>\n",
       "      <th>2021-06-17</th>\n",
       "      <td>114.990</td>\n",
       "      <td>421.97</td>\n",
       "    </tr>\n",
       "    <tr>\n",
       "      <th>2021-06-18</th>\n",
       "      <td>115.290</td>\n",
       "      <td>415.01</td>\n",
       "    </tr>\n",
       "  </tbody>\n",
       "</table>\n",
       "<p>1001 rows × 2 columns</p>\n",
       "</div>"
      ],
      "text/plain": [
       "                AGG     SPY\n",
       "2017-06-28  109.850     NaN\n",
       "2017-06-29  109.640  241.39\n",
       "2017-06-30  109.490  241.77\n",
       "2017-07-03  109.080  242.32\n",
       "2017-07-05  109.150  242.77\n",
       "...             ...     ...\n",
       "2021-06-14  114.970  425.29\n",
       "2021-06-15  114.995  424.50\n",
       "2021-06-16  114.630  422.12\n",
       "2021-06-17  114.990  421.97\n",
       "2021-06-18  115.290  415.01\n",
       "\n",
       "[1001 rows x 2 columns]"
      ]
     },
     "execution_count": 24,
     "metadata": {},
     "output_type": "execute_result"
    }
   ],
   "source": [
    "# Pick AGG and SPY close prices \n",
    "df_closing_prices = pd.DataFrame()\n",
    "df_closing_prices[\"AGG\"] = df_portfolio_1000[\"AGG\"][\"close\"]\n",
    "df_closing_prices[\"SPY\"] = df_portfolio_1000[\"SPY\"][\"close\"]\n",
    "df_closing_prices.index = df_closing_prices.index.date\n",
    "df_closing_prices"
   ]
  },
  {
   "cell_type": "code",
   "execution_count": 25,
   "metadata": {},
   "outputs": [
    {
     "name": "stdout",
     "output_type": "stream",
     "text": [
      "The current value of your 200 AGG shares is $23058.00\n",
      "The current value of your 50 SPY shares is $20750.50\n"
     ]
    }
   ],
   "source": [
    "# Compute the current value of shares\n",
    "\n",
    "agg_price = df_closing_prices[\"AGG\"]\n",
    "current_agg_price = agg_price.iloc[-1]\n",
    "current_value_agg = current_agg_price * my_agg\n",
    "\n",
    "spy_price = df_closing_prices[\"SPY\"]\n",
    "current_spy_price = spy_price.iloc[-1]\n",
    "current_value_spy = current_spy_price * my_spy\n",
    "\n",
    "# Print current value of shares\n",
    "\n",
    "print(f\"The current value of your {my_agg} AGG shares is ${current_value_agg:0.2f}\")\n",
    "print(f\"The current value of your {my_spy} SPY shares is ${current_value_spy:0.2f}\")"
   ]
  },
  {
   "cell_type": "markdown",
   "metadata": {},
   "source": [
    "### Savings Health Analysis"
   ]
  },
  {
   "cell_type": "code",
   "execution_count": 26,
   "metadata": {},
   "outputs": [
    {
     "data": {
      "text/html": [
       "<div>\n",
       "<style scoped>\n",
       "    .dataframe tbody tr th:only-of-type {\n",
       "        vertical-align: middle;\n",
       "    }\n",
       "\n",
       "    .dataframe tbody tr th {\n",
       "        vertical-align: top;\n",
       "    }\n",
       "\n",
       "    .dataframe thead th {\n",
       "        text-align: right;\n",
       "    }\n",
       "</style>\n",
       "<table border=\"1\" class=\"dataframe\">\n",
       "  <thead>\n",
       "    <tr style=\"text-align: right;\">\n",
       "      <th></th>\n",
       "      <th>Amount</th>\n",
       "    </tr>\n",
       "  </thead>\n",
       "  <tbody>\n",
       "    <tr>\n",
       "      <th>Crypto</th>\n",
       "      <td>60599.835396</td>\n",
       "    </tr>\n",
       "    <tr>\n",
       "      <th>Shares</th>\n",
       "      <td>43808.500000</td>\n",
       "    </tr>\n",
       "  </tbody>\n",
       "</table>\n",
       "</div>"
      ],
      "text/plain": [
       "              Amount\n",
       "Crypto  60599.835396\n",
       "Shares  43808.500000"
      ]
     },
     "execution_count": 26,
     "metadata": {},
     "output_type": "execute_result"
    }
   ],
   "source": [
    "# Set monthly household income\n",
    "\n",
    "monthly_income = 12000\n",
    "\n",
    "# Consolidate financial assets data\n",
    "\n",
    "total_crypto_holdings = btc_value + eth_value\n",
    "total_share_holdings = current_value_agg + current_value_spy\n",
    "\n",
    "  \n",
    "# Create DataFrame  \n",
    "\n",
    "data_frame = {\"Amount\": [total_crypto_holdings, total_share_holdings]}\n",
    "tickers = [\"Crypto\", \"Shares\"]\n",
    "\n",
    "# Print the output.  \n",
    "\n",
    "data_frame\n",
    "\n",
    "# Create savings DataFrame\n",
    "\n",
    "df_savings = pd.DataFrame(data_frame, index=tickers)\n",
    "\n",
    "\n",
    "# Display savings DataFrame\n",
    "\n",
    "df_savings\n"
   ]
  },
  {
   "cell_type": "code",
   "execution_count": 27,
   "metadata": {},
   "outputs": [
    {
     "data": {
      "text/plain": [
       "<AxesSubplot:title={'center':'Savings health analysis'}, ylabel='Amount'>"
      ]
     },
     "execution_count": 27,
     "metadata": {},
     "output_type": "execute_result"
    },
    {
     "data": {
      "image/png": "[encoded data removed]",
      "text/plain": [
       "<Figure size 432x288 with 1 Axes>"
      ]
     },
     "metadata": {},
     "output_type": "display_data"
    }
   ],
   "source": [
    "# Plot savings pie chart\n",
    "\n",
    "df_savings.plot.pie(y=\"Amount\", title=\"Savings health analysis\")"
   ]
  },
  {
   "cell_type": "code",
   "execution_count": 28,
   "metadata": {},
   "outputs": [
    {
     "data": {
      "text/plain": [
       "36000"
      ]
     },
     "execution_count": 28,
     "metadata": {},
     "output_type": "execute_result"
    }
   ],
   "source": [
    "# Set ideal emergency fund\n",
    "\n",
    "emergency_fund = monthly_income * 3\n",
    "emergency_fund"
   ]
  },
  {
   "cell_type": "code",
   "execution_count": 29,
   "metadata": {},
   "outputs": [
    {
     "data": {
      "text/plain": [
       "104408.33539600001"
      ]
     },
     "execution_count": 29,
     "metadata": {},
     "output_type": "execute_result"
    }
   ],
   "source": [
    "# Calculate total amount of savings\n",
    "\n",
    "total_savings = total_crypto_holdings + total_share_holdings\n",
    "total_savings"
   ]
  },
  {
   "cell_type": "code",
   "execution_count": 30,
   "metadata": {},
   "outputs": [
    {
     "name": "stdout",
     "output_type": "stream",
     "text": [
      "Well done! Your total savings is higher than the emergency fund. Keep up the great savings\n"
     ]
    }
   ],
   "source": [
    "# Validate saving health\n",
    "\n",
    "if total_savings > emergency_fund:\n",
    "    print(\"Well done! Your total savings is higher than the emergency fund. Keep up the great savings\")\n",
    "elif total_savings == emergency_fund:\n",
    "    print(\"Well done! You have saved enough money to match the emergency fund. Keep up the great savings\")\n",
    "elif total_savings < emergency_fund: \n",
    "    print(f\"You're almost there! You need to save ${total_savings - emergency_fund}\")"
   ]
  },
  {
   "cell_type": "markdown",
   "metadata": {},
   "source": [
    "## Part 2 - Retirement Planning\n",
    "\n",
    "### Monte Carlo Simulation"
   ]
  },
  {
   "cell_type": "code",
   "execution_count": 31,
   "metadata": {},
   "outputs": [],
   "source": [
    "# Set start and end dates of five years back from today.\n",
    "# Sample results may vary from the solution based on the time frame chosen\n",
    "\n",
    "start_date = pd.Timestamp('2016-05-01', tz='America/New_York').isoformat()\n",
    "end_date = pd.Timestamp('2021-05-01', tz='America/New_York').isoformat()"
   ]
  },
  {
   "cell_type": "code",
   "execution_count": 32,
   "metadata": {},
   "outputs": [
    {
     "ename": "NameError",
     "evalue": "name 'df_stock_data' is not defined",
     "output_type": "error",
     "traceback": [
      "\u001b[1;31m---------------------------------------------------------------------------\u001b[0m",
      "\u001b[1;31mNameError\u001b[0m                                 Traceback (most recent call last)",
      "\u001b[1;32m<ipython-input-32-d0ff9787f104>\u001b[0m in \u001b[0;36m<module>\u001b[1;34m\u001b[0m\n\u001b[0;32m      9\u001b[0m \u001b[1;33m\u001b[0m\u001b[0m\n\u001b[0;32m     10\u001b[0m \u001b[1;33m\u001b[0m\u001b[0m\n\u001b[1;32m---> 11\u001b[1;33m \u001b[0mdf_stock_data\u001b[0m\u001b[1;33m.\u001b[0m\u001b[0mhead\u001b[0m\u001b[1;33m(\u001b[0m\u001b[1;33m)\u001b[0m\u001b[1;33m\u001b[0m\u001b[1;33m\u001b[0m\u001b[0m\n\u001b[0m",
      "\u001b[1;31mNameError\u001b[0m: name 'df_stock_data' is not defined"
     ]
    }
   ],
   "source": [
    "# Get 5 years' worth of historical data for SPY and AGG\n",
    "\n",
    "\n",
    "\n",
    "# (use a limit=1000 parameter to call the most recent 1000 days of data)\n",
    "\n",
    "\n",
    "# Display sample data\n",
    "\n",
    "\n",
    "df_stock_data.head()"
   ]
  },
  {
   "cell_type": "code",
   "execution_count": null,
   "metadata": {},
   "outputs": [],
   "source": [
    "# Configuring a Monte Carlo simulation to forecast 30 years cumulative returns\n",
    "# YOUR CODE HERE!"
   ]
  },
  {
   "cell_type": "code",
   "execution_count": null,
   "metadata": {},
   "outputs": [],
   "source": [
    "# Printing the simulation input data\n",
    "# YOUR CODE HERE!"
   ]
  },
  {
   "cell_type": "code",
   "execution_count": null,
   "metadata": {},
   "outputs": [],
   "source": [
    "# Running a Monte Carlo simulation to forecast 30 years cumulative returns\n",
    "# YOUR CODE HERE!"
   ]
  },
  {
   "cell_type": "code",
   "execution_count": null,
   "metadata": {},
   "outputs": [],
   "source": [
    "# Plot simulation outcomes\n",
    "# YOUR CODE HERE!"
   ]
  },
  {
   "cell_type": "code",
   "execution_count": null,
   "metadata": {},
   "outputs": [],
   "source": [
    "# Plot probability distribution and confidence intervals\n",
    "# YOUR CODE HERE!"
   ]
  },
  {
   "cell_type": "markdown",
   "metadata": {},
   "source": [
    "### Retirement Analysis"
   ]
  },
  {
   "cell_type": "code",
   "execution_count": null,
   "metadata": {},
   "outputs": [],
   "source": [
    "# Fetch summary statistics from the Monte Carlo simulation results\n",
    "# YOUR CODE HERE!\n",
    "\n",
    "# Print summary statistics\n",
    "# YOUR CODE HERE!"
   ]
  },
  {
   "cell_type": "markdown",
   "metadata": {},
   "source": [
    "### Calculate the expected portfolio return at the `95%` lower and upper confidence intervals based on a `$20,000` initial investment."
   ]
  },
  {
   "cell_type": "code",
   "execution_count": null,
   "metadata": {},
   "outputs": [],
   "source": [
    "# Set initial investment\n",
    "initial_investment = 20000\n",
    "\n",
    "# Use the lower and upper `95%` confidence intervals to calculate the range of the possible outcomes of our $20,000\n",
    "# YOUR CODE HERE!\n",
    "\n",
    "# Print results\n",
    "print(f\"There is a 95% chance that an initial investment of ${initial_investment} in the portfolio\"\n",
    "      f\" over the next 30 years will end within in the range of\"\n",
    "      f\" ${ci_lower} and ${ci_upper}\")"
   ]
  },
  {
   "cell_type": "markdown",
   "metadata": {},
   "source": [
    "### Calculate the expected portfolio return at the `95%` lower and upper confidence intervals based on a `50%` increase in the initial investment."
   ]
  },
  {
   "cell_type": "code",
   "execution_count": null,
   "metadata": {},
   "outputs": [],
   "source": [
    "# Set initial investment\n",
    "initial_investment = 20000 * 1.5\n",
    "\n",
    "# Use the lower and upper `95%` confidence intervals to calculate the range of the possible outcomes of our $30,000\n",
    "# YOUR CODE HERE!\n",
    "\n",
    "# Print results\n",
    "print(f\"There is a 95% chance that an initial investment of ${initial_investment} in the portfolio\"\n",
    "      f\" over the next 30 years will end within in the range of\"\n",
    "      f\" ${ci_lower} and ${ci_upper}\")"
   ]
  },
  {
   "cell_type": "markdown",
   "metadata": {},
   "source": [
    "## Optional Challenge - Early Retirement\n",
    "\n",
    "\n",
    "### Five Years Retirement Option"
   ]
  },
  {
   "cell_type": "code",
   "execution_count": null,
   "metadata": {},
   "outputs": [],
   "source": [
    "# Configuring a Monte Carlo simulation to forecast 5 years cumulative returns\n",
    "# YOUR CODE HERE!"
   ]
  },
  {
   "cell_type": "code",
   "execution_count": null,
   "metadata": {},
   "outputs": [],
   "source": [
    "# Running a Monte Carlo simulation to forecast 5 years cumulative returns\n",
    "# YOUR CODE HERE!"
   ]
  },
  {
   "cell_type": "code",
   "execution_count": null,
   "metadata": {},
   "outputs": [],
   "source": [
    "# Plot simulation outcomes\n",
    "# YOUR CODE HERE!"
   ]
  },
  {
   "cell_type": "code",
   "execution_count": null,
   "metadata": {},
   "outputs": [],
   "source": [
    "# Plot probability distribution and confidence intervals\n",
    "# YOUR CODE HERE!"
   ]
  },
  {
   "cell_type": "code",
   "execution_count": null,
   "metadata": {},
   "outputs": [],
   "source": [
    "# Fetch summary statistics from the Monte Carlo simulation results\n",
    "# YOUR CODE HERE!\n",
    "\n",
    "# Print summary statistics\n",
    "# YOUR CODE HERE!"
   ]
  },
  {
   "cell_type": "code",
   "execution_count": null,
   "metadata": {},
   "outputs": [],
   "source": [
    "# Set initial investment\n",
    "# YOUR CODE HERE!\n",
    "\n",
    "# Use the lower and upper `95%` confidence intervals to calculate the range of the possible outcomes of our $60,000\n",
    "# YOUR CODE HERE!\n",
    "\n",
    "# Print results\n",
    "print(f\"There is a 95% chance that an initial investment of ${initial_investment} in the portfolio\"\n",
    "      f\" over the next 5 years will end within in the range of\"\n",
    "      f\" ${ci_lower_five} and ${ci_upper_five}\")"
   ]
  },
  {
   "cell_type": "markdown",
   "metadata": {},
   "source": [
    "### Ten Years Retirement Option"
   ]
  },
  {
   "cell_type": "code",
   "execution_count": null,
   "metadata": {},
   "outputs": [],
   "source": [
    "# Configuring a Monte Carlo simulation to forecast 10 years cumulative returns\n",
    "# YOUR CODE HERE!"
   ]
  },
  {
   "cell_type": "code",
   "execution_count": null,
   "metadata": {},
   "outputs": [],
   "source": [
    "# Running a Monte Carlo simulation to forecast 10 years cumulative returns\n",
    "# YOUR CODE HERE!"
   ]
  },
  {
   "cell_type": "code",
   "execution_count": null,
   "metadata": {},
   "outputs": [],
   "source": [
    "# Plot simulation outcomes\n",
    "# YOUR CODE HERE!"
   ]
  },
  {
   "cell_type": "code",
   "execution_count": null,
   "metadata": {},
   "outputs": [],
   "source": [
    "# Plot probability distribution and confidence intervals\n",
    "# YOUR CODE HERE!"
   ]
  },
  {
   "cell_type": "code",
   "execution_count": null,
   "metadata": {},
   "outputs": [],
   "source": [
    "# Fetch summary statistics from the Monte Carlo simulation results\n",
    "# YOUR CODE HERE!\n",
    "\n",
    "# Print summary statistics\n",
    "# YOUR CODE HERE!"
   ]
  },
  {
   "cell_type": "code",
   "execution_count": null,
   "metadata": {},
   "outputs": [],
   "source": [
    "# Set initial investment\n",
    "# YOUR CODE HERE!\n",
    "\n",
    "# Use the lower and upper `95%` confidence intervals to calculate the range of the possible outcomes of our $60,000\n",
    "# YOUR CODE HERE!\n",
    "\n",
    "# Print results\n",
    "print(f\"There is a 95% chance that an initial investment of ${initial_investment} in the portfolio\"\n",
    "      f\" over the next 10 years will end within in the range of\"\n",
    "      f\" ${ci_lower_ten} and ${ci_upper_ten}\")"
   ]
  },
  {
   "cell_type": "code",
   "execution_count": null,
   "metadata": {},
   "outputs": [],
   "source": []
  }
 ],
 "metadata": {
  "kernelspec": {
   "display_name": "Python 3",
   "language": "python",
   "name": "python3"
  },
  "language_info": {
   "codemirror_mode": {
    "name": "ipython",
    "version": 3
   },
   "file_extension": ".py",
   "mimetype": "text/x-python",
   "name": "python",
   "nbconvert_exporter": "python",
   "pygments_lexer": "ipython3",
   "version": "3.8.5"
  },
  "nteract": {
   "version": "0.28.0"
  }
 },
 "nbformat": 4,
 "nbformat_minor": 4
}
