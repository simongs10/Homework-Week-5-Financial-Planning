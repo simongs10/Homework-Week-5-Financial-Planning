{
 "cells": [
  {
   "cell_type": "markdown",
   "metadata": {},
   "source": [
    "# Unit 5 - Financial Planning"
   ]
  },
  {
   "cell_type": "code",
   "execution_count": 1,
   "metadata": {},
   "outputs": [],
   "source": [
    "# Initial imports\n",
    "\n",
    "import os\n",
    "import requests\n",
    "import pandas as pd\n",
    "import json\n",
    "from dotenv import load_dotenv\n",
    "import alpaca_trade_api as tradeapi\n",
    "from MCForecastTools import MCSimulation\n",
    "\n",
    "%matplotlib inline"
   ]
  },
  {
   "cell_type": "code",
   "execution_count": 2,
   "metadata": {},
   "outputs": [
    {
     "data": {
      "text/plain": [
       "True"
      ]
     },
     "execution_count": 2,
     "metadata": {},
     "output_type": "execute_result"
    }
   ],
   "source": [
    "# Load .env enviroment variables\n",
    "load_dotenv()"
   ]
  },
  {
   "cell_type": "markdown",
   "metadata": {},
   "source": [
    "## Part 1 - Personal Finance Planner"
   ]
  },
  {
   "cell_type": "markdown",
   "metadata": {},
   "source": [
    "### Collect Crypto Prices Using the `requests` Library"
   ]
  },
  {
   "cell_type": "code",
   "execution_count": 3,
   "metadata": {},
   "outputs": [],
   "source": [
    "# Set current amount of crypto assets\n",
    "my_btc = 1.2\n",
    "my_eth = 5.3"
   ]
  },
  {
   "cell_type": "code",
   "execution_count": 4,
   "metadata": {},
   "outputs": [],
   "source": [
    "# Crypto API URLs\n",
    "btc_url = \"https://api.alternative.me/v2/ticker/Bitcoin/?convert=CAD\"\n",
    "eth_url = \"https://api.alternative.me/v2/ticker/Ethereum/?convert=CAD\""
   ]
  },
  {
   "cell_type": "code",
   "execution_count": 5,
   "metadata": {},
   "outputs": [
    {
     "data": {
      "text/plain": [
       "{'data': {'1': {'id': 1,\n",
       "   'name': 'Bitcoin',\n",
       "   'symbol': 'BTC',\n",
       "   'website_slug': 'bitcoin',\n",
       "   'rank': 1,\n",
       "   'circulating_supply': 18740450,\n",
       "   'total_supply': 18740450,\n",
       "   'max_supply': 21000000,\n",
       "   'quotes': {'USD': {'price': 31651.0,\n",
       "     'volume_24h': 48208090731,\n",
       "     'market_cap': 592824256333,\n",
       "     'percentage_change_1h': -1.97576805577186,\n",
       "     'percentage_change_24h': -3.61362395061116,\n",
       "     'percentage_change_7d': -22.0880501188316,\n",
       "     'percent_change_1h': -1.97576805577186,\n",
       "     'percent_change_24h': -3.61362395061116,\n",
       "     'percent_change_7d': -22.0880501188316},\n",
       "    'CAD': {'price': 39202.9286,\n",
       "     'volume_24h': 59710541179.4166,\n",
       "     'market_cap': 734272123894.054,\n",
       "     'percent_change_1h': -1.97576805577186,\n",
       "     'percent_change_24h': -3.61362395061116,\n",
       "     'percent_change_7d': -22.0880501188316}},\n",
       "   'last_updated': 1624353841}},\n",
       " 'metadata': {'timestamp': 1624353841,\n",
       "  'num_cryptocurrencies': 1282,\n",
       "  'error': None}}"
      ]
     },
     "execution_count": 5,
     "metadata": {},
     "output_type": "execute_result"
    }
   ],
   "source": [
    "# Fetch current BTC price\n",
    "\n",
    "requests.get(btc_url)\n",
    "\n",
    "# Fetch current ETH price\n",
    "\n",
    "requests.get(eth_url)\n",
    "\n",
    "# Compute current value of my crpto\n",
    "# [200] response means good code.\n",
    "\n",
    "btc = requests.get(btc_url)\n",
    "eth = requests.get(eth_url)\n",
    "data_btc = btc.json()\n",
    "data_eth = eth.json()\n",
    "data_btc"
   ]
  },
  {
   "cell_type": "code",
   "execution_count": 6,
   "metadata": {},
   "outputs": [
    {
     "data": {
      "text/plain": [
       "dict_keys(['data', 'metadata'])"
      ]
     },
     "execution_count": 6,
     "metadata": {},
     "output_type": "execute_result"
    }
   ],
   "source": [
    "data_btc.keys()"
   ]
  },
  {
   "cell_type": "code",
   "execution_count": 7,
   "metadata": {},
   "outputs": [
    {
     "data": {
      "text/plain": [
       "dict_keys(['1'])"
      ]
     },
     "execution_count": 7,
     "metadata": {},
     "output_type": "execute_result"
    }
   ],
   "source": [
    "data_btc[\"data\"].keys()"
   ]
  },
  {
   "cell_type": "code",
   "execution_count": 8,
   "metadata": {},
   "outputs": [
    {
     "data": {
      "text/plain": [
       "{'id': 1,\n",
       " 'name': 'Bitcoin',\n",
       " 'symbol': 'BTC',\n",
       " 'website_slug': 'bitcoin',\n",
       " 'rank': 1,\n",
       " 'circulating_supply': 18740450,\n",
       " 'total_supply': 18740450,\n",
       " 'max_supply': 21000000,\n",
       " 'quotes': {'USD': {'price': 31651.0,\n",
       "   'volume_24h': 48208090731,\n",
       "   'market_cap': 592824256333,\n",
       "   'percentage_change_1h': -1.97576805577186,\n",
       "   'percentage_change_24h': -3.61362395061116,\n",
       "   'percentage_change_7d': -22.0880501188316,\n",
       "   'percent_change_1h': -1.97576805577186,\n",
       "   'percent_change_24h': -3.61362395061116,\n",
       "   'percent_change_7d': -22.0880501188316},\n",
       "  'CAD': {'price': 39202.9286,\n",
       "   'volume_24h': 59710541179.4166,\n",
       "   'market_cap': 734272123894.054,\n",
       "   'percent_change_1h': -1.97576805577186,\n",
       "   'percent_change_24h': -3.61362395061116,\n",
       "   'percent_change_7d': -22.0880501188316}},\n",
       " 'last_updated': 1624353841}"
      ]
     },
     "execution_count": 8,
     "metadata": {},
     "output_type": "execute_result"
    }
   ],
   "source": [
    "data_btc[\"data\"] [\"1\"]"
   ]
  },
  {
   "cell_type": "code",
   "execution_count": 9,
   "metadata": {},
   "outputs": [
    {
     "data": {
      "text/plain": [
       "{'USD': {'price': 31651.0,\n",
       "  'volume_24h': 48208090731,\n",
       "  'market_cap': 592824256333,\n",
       "  'percentage_change_1h': -1.97576805577186,\n",
       "  'percentage_change_24h': -3.61362395061116,\n",
       "  'percentage_change_7d': -22.0880501188316,\n",
       "  'percent_change_1h': -1.97576805577186,\n",
       "  'percent_change_24h': -3.61362395061116,\n",
       "  'percent_change_7d': -22.0880501188316},\n",
       " 'CAD': {'price': 39202.9286,\n",
       "  'volume_24h': 59710541179.4166,\n",
       "  'market_cap': 734272123894.054,\n",
       "  'percent_change_1h': -1.97576805577186,\n",
       "  'percent_change_24h': -3.61362395061116,\n",
       "  'percent_change_7d': -22.0880501188316}}"
      ]
     },
     "execution_count": 9,
     "metadata": {},
     "output_type": "execute_result"
    }
   ],
   "source": [
    "data_btc[\"data\"][\"1\"][\"quotes\"]"
   ]
  },
  {
   "cell_type": "code",
   "execution_count": 10,
   "metadata": {},
   "outputs": [
    {
     "data": {
      "text/plain": [
       "dict_keys(['USD', 'CAD'])"
      ]
     },
     "execution_count": 10,
     "metadata": {},
     "output_type": "execute_result"
    }
   ],
   "source": [
    "data_btc[\"data\"][\"1\"][\"quotes\"].keys()"
   ]
  },
  {
   "cell_type": "code",
   "execution_count": 11,
   "metadata": {},
   "outputs": [
    {
     "data": {
      "text/plain": [
       "{'price': 39202.9286,\n",
       " 'volume_24h': 59710541179.4166,\n",
       " 'market_cap': 734272123894.054,\n",
       " 'percent_change_1h': -1.97576805577186,\n",
       " 'percent_change_24h': -3.61362395061116,\n",
       " 'percent_change_7d': -22.0880501188316}"
      ]
     },
     "execution_count": 11,
     "metadata": {},
     "output_type": "execute_result"
    }
   ],
   "source": [
    "data_btc[\"data\"][\"1\"][\"quotes\"]['CAD']"
   ]
  },
  {
   "cell_type": "code",
   "execution_count": 12,
   "metadata": {},
   "outputs": [
    {
     "data": {
      "text/plain": [
       "39202.9286"
      ]
     },
     "execution_count": 12,
     "metadata": {},
     "output_type": "execute_result"
    }
   ],
   "source": [
    "data_btc[\"data\"][\"1\"][\"quotes\"]['CAD']['price']\n",
    "btc_price = data_btc[\"data\"][\"1\"][\"quotes\"]['CAD']['price']\n",
    "btc_price"
   ]
  },
  {
   "cell_type": "code",
   "execution_count": 13,
   "metadata": {},
   "outputs": [
    {
     "data": {
      "text/plain": [
       "{'data': {'1027': {'id': 1027,\n",
       "   'name': 'Ethereum',\n",
       "   'symbol': 'ETH',\n",
       "   'website_slug': 'ethereum',\n",
       "   'rank': 2,\n",
       "   'circulating_supply': 116392839,\n",
       "   'total_supply': 116392839,\n",
       "   'max_supply': 0,\n",
       "   'quotes': {'USD': {'price': 1883.57,\n",
       "     'volume_24h': 37600929898,\n",
       "     'market_cap': 219154879375,\n",
       "     'percentage_change_1h': -1.74522297647708,\n",
       "     'percentage_change_24h': -6.16509228594817,\n",
       "     'percentage_change_7d': -27.2015215342398,\n",
       "     'percent_change_1h': -1.74522297647708,\n",
       "     'percent_change_24h': -6.16509228594817,\n",
       "     'percent_change_7d': -27.2015215342398},\n",
       "    'CAD': {'price': 2332.989802,\n",
       "     'volume_24h': 46572511771.6628,\n",
       "     'market_cap': 271445233593.875,\n",
       "     'percent_change_1h': -1.74522297647708,\n",
       "     'percent_change_24h': -6.16509228594817,\n",
       "     'percent_change_7d': -27.2015215342398}},\n",
       "   'last_updated': 1624353823}},\n",
       " 'metadata': {'timestamp': 1624353823,\n",
       "  'num_cryptocurrencies': 1282,\n",
       "  'error': None}}"
      ]
     },
     "execution_count": 13,
     "metadata": {},
     "output_type": "execute_result"
    }
   ],
   "source": [
    "data_eth"
   ]
  },
  {
   "cell_type": "code",
   "execution_count": 14,
   "metadata": {},
   "outputs": [
    {
     "data": {
      "text/plain": [
       "dict_keys(['data', 'metadata'])"
      ]
     },
     "execution_count": 14,
     "metadata": {},
     "output_type": "execute_result"
    }
   ],
   "source": [
    "data_eth.keys()"
   ]
  },
  {
   "cell_type": "code",
   "execution_count": 15,
   "metadata": {},
   "outputs": [
    {
     "data": {
      "text/plain": [
       "dict_keys(['1027'])"
      ]
     },
     "execution_count": 15,
     "metadata": {},
     "output_type": "execute_result"
    }
   ],
   "source": [
    "data_eth[\"data\"].keys()"
   ]
  },
  {
   "cell_type": "code",
   "execution_count": 16,
   "metadata": {},
   "outputs": [
    {
     "data": {
      "text/plain": [
       "dict_keys(['id', 'name', 'symbol', 'website_slug', 'rank', 'circulating_supply', 'total_supply', 'max_supply', 'quotes', 'last_updated'])"
      ]
     },
     "execution_count": 16,
     "metadata": {},
     "output_type": "execute_result"
    }
   ],
   "source": [
    "data_eth[\"data\"][\"1027\"].keys()"
   ]
  },
  {
   "cell_type": "code",
   "execution_count": 17,
   "metadata": {},
   "outputs": [
    {
     "data": {
      "text/plain": [
       "2332.989802"
      ]
     },
     "execution_count": 17,
     "metadata": {},
     "output_type": "execute_result"
    }
   ],
   "source": [
    "data_eth[\"data\"][\"1027\"][\"quotes\"][\"CAD\"][\"price\"]"
   ]
  },
  {
   "cell_type": "code",
   "execution_count": 18,
   "metadata": {},
   "outputs": [
    {
     "data": {
      "text/plain": [
       "2332.989802"
      ]
     },
     "execution_count": 18,
     "metadata": {},
     "output_type": "execute_result"
    }
   ],
   "source": [
    "eth_price = data_eth[\"data\"][\"1027\"][\"quotes\"][\"CAD\"][\"price\"]\n",
    "eth_price"
   ]
  },
  {
   "cell_type": "code",
   "execution_count": 19,
   "metadata": {},
   "outputs": [
    {
     "name": "stdout",
     "output_type": "stream",
     "text": [
      "The current value of your BTC is $47043.51\n",
      "The current value of your ETH is $12364.85\n"
     ]
    }
   ],
   "source": [
    "# Print current crypto wallet balance\n",
    "\n",
    "btc_value = btc_price * my_btc\n",
    "eth_value = eth_price * my_eth\n",
    "\n",
    "print(f\"The current value of your BTC is ${btc_value:0.2f}\")\n",
    "print(f\"The current value of your ETH is ${eth_value:0.2f}\")"
   ]
  },
  {
   "cell_type": "markdown",
   "metadata": {},
   "source": [
    "### Collect Investments Data Using Alpaca: `SPY` (stocks) and `AGG` (bonds)"
   ]
  },
  {
   "cell_type": "code",
   "execution_count": 20,
   "metadata": {},
   "outputs": [],
   "source": [
    "# Set current amount of shares\n",
    "\n",
    "my_agg = 200\n",
    "my_spy = 50"
   ]
  },
  {
   "cell_type": "code",
   "execution_count": 21,
   "metadata": {},
   "outputs": [
    {
     "name": "stdout",
     "output_type": "stream",
     "text": [
      "Alpaca Key type: <class 'str'>\n",
      "Alpaca Secret Key type: <class 'str'>\n"
     ]
    }
   ],
   "source": [
    "# Set Alpaca API key and secret\n",
    "\n",
    "alpaca_api_key = os.getenv(\"ALPACA_API_KEY\")\n",
    "\n",
    "\n",
    "alpaca_secret_api_key = os.getenv(\"ALPACA_SECRET_KEY\")\n",
    "\n",
    "\n",
    "print(f\"Alpaca Key type: {type(alpaca_api_key)}\")\n",
    "print(f\"Alpaca Secret Key type: {type(alpaca_secret_api_key)}\")\n",
    "\n",
    "# Create the Alpaca API object\n",
    "\n",
    "alpaca = tradeapi.REST(\n",
    "    alpaca_api_key,\n",
    "    alpaca_secret_api_key,\n",
    "    api_version=\"v2\")"
   ]
  },
  {
   "cell_type": "code",
   "execution_count": 22,
   "metadata": {},
   "outputs": [],
   "source": [
    "import datetime"
   ]
  },
  {
   "cell_type": "code",
   "execution_count": 23,
   "metadata": {},
   "outputs": [
    {
     "data": {
      "text/html": [
       "<div>\n",
       "<style scoped>\n",
       "    .dataframe tbody tr th:only-of-type {\n",
       "        vertical-align: middle;\n",
       "    }\n",
       "\n",
       "    .dataframe tbody tr th {\n",
       "        vertical-align: top;\n",
       "    }\n",
       "\n",
       "    .dataframe thead tr th {\n",
       "        text-align: left;\n",
       "    }\n",
       "\n",
       "    .dataframe thead tr:last-of-type th {\n",
       "        text-align: right;\n",
       "    }\n",
       "</style>\n",
       "<table border=\"1\" class=\"dataframe\">\n",
       "  <thead>\n",
       "    <tr>\n",
       "      <th></th>\n",
       "      <th colspan=\"5\" halign=\"left\">AGG</th>\n",
       "      <th colspan=\"5\" halign=\"left\">SPY</th>\n",
       "    </tr>\n",
       "    <tr>\n",
       "      <th></th>\n",
       "      <th>open</th>\n",
       "      <th>high</th>\n",
       "      <th>low</th>\n",
       "      <th>close</th>\n",
       "      <th>volume</th>\n",
       "      <th>open</th>\n",
       "      <th>high</th>\n",
       "      <th>low</th>\n",
       "      <th>close</th>\n",
       "      <th>volume</th>\n",
       "    </tr>\n",
       "    <tr>\n",
       "      <th>time</th>\n",
       "      <th></th>\n",
       "      <th></th>\n",
       "      <th></th>\n",
       "      <th></th>\n",
       "      <th></th>\n",
       "      <th></th>\n",
       "      <th></th>\n",
       "      <th></th>\n",
       "      <th></th>\n",
       "      <th></th>\n",
       "    </tr>\n",
       "  </thead>\n",
       "  <tbody>\n",
       "    <tr>\n",
       "      <th>2017-06-29 00:00:00-04:00</th>\n",
       "      <td>109.530</td>\n",
       "      <td>109.6800</td>\n",
       "      <td>109.465</td>\n",
       "      <td>109.640</td>\n",
       "      <td>2457876.0</td>\n",
       "      <td>NaN</td>\n",
       "      <td>NaN</td>\n",
       "      <td>NaN</td>\n",
       "      <td>NaN</td>\n",
       "      <td>NaN</td>\n",
       "    </tr>\n",
       "    <tr>\n",
       "      <th>2017-06-30 00:00:00-04:00</th>\n",
       "      <td>109.620</td>\n",
       "      <td>109.6273</td>\n",
       "      <td>109.460</td>\n",
       "      <td>109.490</td>\n",
       "      <td>2201175.0</td>\n",
       "      <td>242.26</td>\n",
       "      <td>242.7100</td>\n",
       "      <td>241.575</td>\n",
       "      <td>241.77</td>\n",
       "      <td>50347309.0</td>\n",
       "    </tr>\n",
       "    <tr>\n",
       "      <th>2017-07-03 00:00:00-04:00</th>\n",
       "      <td>109.300</td>\n",
       "      <td>109.3000</td>\n",
       "      <td>109.010</td>\n",
       "      <td>109.080</td>\n",
       "      <td>1681516.0</td>\n",
       "      <td>242.91</td>\n",
       "      <td>243.3800</td>\n",
       "      <td>242.290</td>\n",
       "      <td>242.32</td>\n",
       "      <td>27234078.0</td>\n",
       "    </tr>\n",
       "    <tr>\n",
       "      <th>2017-07-05 00:00:00-04:00</th>\n",
       "      <td>109.080</td>\n",
       "      <td>109.1800</td>\n",
       "      <td>109.000</td>\n",
       "      <td>109.150</td>\n",
       "      <td>2694196.0</td>\n",
       "      <td>242.62</td>\n",
       "      <td>243.0100</td>\n",
       "      <td>241.700</td>\n",
       "      <td>242.77</td>\n",
       "      <td>41067682.0</td>\n",
       "    </tr>\n",
       "    <tr>\n",
       "      <th>2017-07-06 00:00:00-04:00</th>\n",
       "      <td>108.950</td>\n",
       "      <td>109.0000</td>\n",
       "      <td>108.820</td>\n",
       "      <td>108.950</td>\n",
       "      <td>2057393.0</td>\n",
       "      <td>241.88</td>\n",
       "      <td>242.0300</td>\n",
       "      <td>240.340</td>\n",
       "      <td>240.58</td>\n",
       "      <td>52390161.0</td>\n",
       "    </tr>\n",
       "    <tr>\n",
       "      <th>...</th>\n",
       "      <td>...</td>\n",
       "      <td>...</td>\n",
       "      <td>...</td>\n",
       "      <td>...</td>\n",
       "      <td>...</td>\n",
       "      <td>...</td>\n",
       "      <td>...</td>\n",
       "      <td>...</td>\n",
       "      <td>...</td>\n",
       "      <td>...</td>\n",
       "    </tr>\n",
       "    <tr>\n",
       "      <th>2021-06-15 00:00:00-04:00</th>\n",
       "      <td>114.900</td>\n",
       "      <td>115.0200</td>\n",
       "      <td>114.870</td>\n",
       "      <td>114.995</td>\n",
       "      <td>5842592.0</td>\n",
       "      <td>425.43</td>\n",
       "      <td>425.4600</td>\n",
       "      <td>423.540</td>\n",
       "      <td>424.50</td>\n",
       "      <td>42885806.0</td>\n",
       "    </tr>\n",
       "    <tr>\n",
       "      <th>2021-06-16 00:00:00-04:00</th>\n",
       "      <td>115.070</td>\n",
       "      <td>115.1285</td>\n",
       "      <td>114.510</td>\n",
       "      <td>114.630</td>\n",
       "      <td>7527672.0</td>\n",
       "      <td>424.63</td>\n",
       "      <td>424.8700</td>\n",
       "      <td>419.920</td>\n",
       "      <td>422.12</td>\n",
       "      <td>73638324.0</td>\n",
       "    </tr>\n",
       "    <tr>\n",
       "      <th>2021-06-17 00:00:00-04:00</th>\n",
       "      <td>114.792</td>\n",
       "      <td>115.2500</td>\n",
       "      <td>114.785</td>\n",
       "      <td>114.990</td>\n",
       "      <td>7417691.0</td>\n",
       "      <td>421.67</td>\n",
       "      <td>423.0200</td>\n",
       "      <td>419.320</td>\n",
       "      <td>421.97</td>\n",
       "      <td>71991686.0</td>\n",
       "    </tr>\n",
       "    <tr>\n",
       "      <th>2021-06-18 00:00:00-04:00</th>\n",
       "      <td>115.050</td>\n",
       "      <td>115.3900</td>\n",
       "      <td>114.910</td>\n",
       "      <td>115.290</td>\n",
       "      <td>5438261.0</td>\n",
       "      <td>417.08</td>\n",
       "      <td>417.8281</td>\n",
       "      <td>414.700</td>\n",
       "      <td>415.01</td>\n",
       "      <td>92753385.0</td>\n",
       "    </tr>\n",
       "    <tr>\n",
       "      <th>2021-06-21 00:00:00-04:00</th>\n",
       "      <td>115.060</td>\n",
       "      <td>115.1200</td>\n",
       "      <td>114.921</td>\n",
       "      <td>114.960</td>\n",
       "      <td>4934966.0</td>\n",
       "      <td>416.80</td>\n",
       "      <td>421.0600</td>\n",
       "      <td>415.930</td>\n",
       "      <td>420.85</td>\n",
       "      <td>63727942.0</td>\n",
       "    </tr>\n",
       "  </tbody>\n",
       "</table>\n",
       "<p>1001 rows × 10 columns</p>\n",
       "</div>"
      ],
      "text/plain": [
       "                               AGG                                         \\\n",
       "                              open      high      low    close     volume   \n",
       "time                                                                        \n",
       "2017-06-29 00:00:00-04:00  109.530  109.6800  109.465  109.640  2457876.0   \n",
       "2017-06-30 00:00:00-04:00  109.620  109.6273  109.460  109.490  2201175.0   \n",
       "2017-07-03 00:00:00-04:00  109.300  109.3000  109.010  109.080  1681516.0   \n",
       "2017-07-05 00:00:00-04:00  109.080  109.1800  109.000  109.150  2694196.0   \n",
       "2017-07-06 00:00:00-04:00  108.950  109.0000  108.820  108.950  2057393.0   \n",
       "...                            ...       ...      ...      ...        ...   \n",
       "2021-06-15 00:00:00-04:00  114.900  115.0200  114.870  114.995  5842592.0   \n",
       "2021-06-16 00:00:00-04:00  115.070  115.1285  114.510  114.630  7527672.0   \n",
       "2021-06-17 00:00:00-04:00  114.792  115.2500  114.785  114.990  7417691.0   \n",
       "2021-06-18 00:00:00-04:00  115.050  115.3900  114.910  115.290  5438261.0   \n",
       "2021-06-21 00:00:00-04:00  115.060  115.1200  114.921  114.960  4934966.0   \n",
       "\n",
       "                              SPY                                         \n",
       "                             open      high      low   close      volume  \n",
       "time                                                                      \n",
       "2017-06-29 00:00:00-04:00     NaN       NaN      NaN     NaN         NaN  \n",
       "2017-06-30 00:00:00-04:00  242.26  242.7100  241.575  241.77  50347309.0  \n",
       "2017-07-03 00:00:00-04:00  242.91  243.3800  242.290  242.32  27234078.0  \n",
       "2017-07-05 00:00:00-04:00  242.62  243.0100  241.700  242.77  41067682.0  \n",
       "2017-07-06 00:00:00-04:00  241.88  242.0300  240.340  240.58  52390161.0  \n",
       "...                           ...       ...      ...     ...         ...  \n",
       "2021-06-15 00:00:00-04:00  425.43  425.4600  423.540  424.50  42885806.0  \n",
       "2021-06-16 00:00:00-04:00  424.63  424.8700  419.920  422.12  73638324.0  \n",
       "2021-06-17 00:00:00-04:00  421.67  423.0200  419.320  421.97  71991686.0  \n",
       "2021-06-18 00:00:00-04:00  417.08  417.8281  414.700  415.01  92753385.0  \n",
       "2021-06-21 00:00:00-04:00  416.80  421.0600  415.930  420.85  63727942.0  \n",
       "\n",
       "[1001 rows x 10 columns]"
      ]
     },
     "execution_count": 23,
     "metadata": {},
     "output_type": "execute_result"
    }
   ],
   "source": [
    "# Format current date as ISO format\n",
    "\n",
    "today = datetime.date.today()\n",
    "\n",
    "# Set the tickers\n",
    "tickers = [\"AGG\", \"SPY\"]\n",
    "\n",
    "# Set timeframe to '1D' for Alpaca API\n",
    "\n",
    "timeframe = \"1D\"\n",
    "\n",
    "# Get current closing prices for SPY and AGG\n",
    "\n",
    "df_portfolio = alpaca.get_barset(\n",
    "    tickers,\n",
    "    timeframe,\n",
    "    start = today,\n",
    "    end = today\n",
    ").df\n",
    "\n",
    "# (use a limit=1000 parameter to call the most recent 1000 days of data)\n",
    "\n",
    "df_portfolio_1000 = alpaca.get_barset(\n",
    "    tickers,\n",
    "    timeframe,\n",
    "    start = today,\n",
    "    limit = 1000).df\n",
    "\n",
    "# Preview DataFrame\n",
    "\n",
    "df_portfolio_1000"
   ]
  },
  {
   "cell_type": "code",
   "execution_count": 24,
   "metadata": {},
   "outputs": [
    {
     "data": {
      "text/html": [
       "<div>\n",
       "<style scoped>\n",
       "    .dataframe tbody tr th:only-of-type {\n",
       "        vertical-align: middle;\n",
       "    }\n",
       "\n",
       "    .dataframe tbody tr th {\n",
       "        vertical-align: top;\n",
       "    }\n",
       "\n",
       "    .dataframe thead th {\n",
       "        text-align: right;\n",
       "    }\n",
       "</style>\n",
       "<table border=\"1\" class=\"dataframe\">\n",
       "  <thead>\n",
       "    <tr style=\"text-align: right;\">\n",
       "      <th></th>\n",
       "      <th>AGG</th>\n",
       "      <th>SPY</th>\n",
       "    </tr>\n",
       "  </thead>\n",
       "  <tbody>\n",
       "    <tr>\n",
       "      <th>2017-06-29</th>\n",
       "      <td>109.640</td>\n",
       "      <td>NaN</td>\n",
       "    </tr>\n",
       "    <tr>\n",
       "      <th>2017-06-30</th>\n",
       "      <td>109.490</td>\n",
       "      <td>241.77</td>\n",
       "    </tr>\n",
       "    <tr>\n",
       "      <th>2017-07-03</th>\n",
       "      <td>109.080</td>\n",
       "      <td>242.32</td>\n",
       "    </tr>\n",
       "    <tr>\n",
       "      <th>2017-07-05</th>\n",
       "      <td>109.150</td>\n",
       "      <td>242.77</td>\n",
       "    </tr>\n",
       "    <tr>\n",
       "      <th>2017-07-06</th>\n",
       "      <td>108.950</td>\n",
       "      <td>240.58</td>\n",
       "    </tr>\n",
       "    <tr>\n",
       "      <th>...</th>\n",
       "      <td>...</td>\n",
       "      <td>...</td>\n",
       "    </tr>\n",
       "    <tr>\n",
       "      <th>2021-06-15</th>\n",
       "      <td>114.995</td>\n",
       "      <td>424.50</td>\n",
       "    </tr>\n",
       "    <tr>\n",
       "      <th>2021-06-16</th>\n",
       "      <td>114.630</td>\n",
       "      <td>422.12</td>\n",
       "    </tr>\n",
       "    <tr>\n",
       "      <th>2021-06-17</th>\n",
       "      <td>114.990</td>\n",
       "      <td>421.97</td>\n",
       "    </tr>\n",
       "    <tr>\n",
       "      <th>2021-06-18</th>\n",
       "      <td>115.290</td>\n",
       "      <td>415.01</td>\n",
       "    </tr>\n",
       "    <tr>\n",
       "      <th>2021-06-21</th>\n",
       "      <td>114.960</td>\n",
       "      <td>420.85</td>\n",
       "    </tr>\n",
       "  </tbody>\n",
       "</table>\n",
       "<p>1001 rows × 2 columns</p>\n",
       "</div>"
      ],
      "text/plain": [
       "                AGG     SPY\n",
       "2017-06-29  109.640     NaN\n",
       "2017-06-30  109.490  241.77\n",
       "2017-07-03  109.080  242.32\n",
       "2017-07-05  109.150  242.77\n",
       "2017-07-06  108.950  240.58\n",
       "...             ...     ...\n",
       "2021-06-15  114.995  424.50\n",
       "2021-06-16  114.630  422.12\n",
       "2021-06-17  114.990  421.97\n",
       "2021-06-18  115.290  415.01\n",
       "2021-06-21  114.960  420.85\n",
       "\n",
       "[1001 rows x 2 columns]"
      ]
     },
     "execution_count": 24,
     "metadata": {},
     "output_type": "execute_result"
    }
   ],
   "source": [
    "# Pick AGG and SPY close prices \n",
    "df_closing_prices = pd.DataFrame()\n",
    "df_closing_prices[\"AGG\"] = df_portfolio_1000[\"AGG\"][\"close\"]\n",
    "df_closing_prices[\"SPY\"] = df_portfolio_1000[\"SPY\"][\"close\"]\n",
    "df_closing_prices.index = df_closing_prices.index.date\n",
    "df_closing_prices"
   ]
  },
  {
   "cell_type": "code",
   "execution_count": 25,
   "metadata": {},
   "outputs": [
    {
     "name": "stdout",
     "output_type": "stream",
     "text": [
      "The current value of your 200 AGG shares is $22992.00\n",
      "The current value of your 50 SPY shares is $21042.50\n"
     ]
    }
   ],
   "source": [
    "# Compute the current value of shares\n",
    "\n",
    "agg_price = df_closing_prices[\"AGG\"]\n",
    "current_agg_price = agg_price.iloc[-1]\n",
    "current_value_agg = current_agg_price * my_agg\n",
    "\n",
    "spy_price = df_closing_prices[\"SPY\"]\n",
    "current_spy_price = spy_price.iloc[-1]\n",
    "current_value_spy = current_spy_price * my_spy\n",
    "\n",
    "# Print current value of shares\n",
    "\n",
    "print(f\"The current value of your {my_agg} AGG shares is ${current_value_agg:0.2f}\")\n",
    "print(f\"The current value of your {my_spy} SPY shares is ${current_value_spy:0.2f}\")"
   ]
  },
  {
   "cell_type": "markdown",
   "metadata": {},
   "source": [
    "### Savings Health Analysis"
   ]
  },
  {
   "cell_type": "code",
   "execution_count": 26,
   "metadata": {},
   "outputs": [
    {
     "data": {
      "text/html": [
       "<div>\n",
       "<style scoped>\n",
       "    .dataframe tbody tr th:only-of-type {\n",
       "        vertical-align: middle;\n",
       "    }\n",
       "\n",
       "    .dataframe tbody tr th {\n",
       "        vertical-align: top;\n",
       "    }\n",
       "\n",
       "    .dataframe thead th {\n",
       "        text-align: right;\n",
       "    }\n",
       "</style>\n",
       "<table border=\"1\" class=\"dataframe\">\n",
       "  <thead>\n",
       "    <tr style=\"text-align: right;\">\n",
       "      <th></th>\n",
       "      <th>Amount</th>\n",
       "    </tr>\n",
       "  </thead>\n",
       "  <tbody>\n",
       "    <tr>\n",
       "      <th>Crypto</th>\n",
       "      <td>59408.360271</td>\n",
       "    </tr>\n",
       "    <tr>\n",
       "      <th>Shares</th>\n",
       "      <td>44034.500000</td>\n",
       "    </tr>\n",
       "  </tbody>\n",
       "</table>\n",
       "</div>"
      ],
      "text/plain": [
       "              Amount\n",
       "Crypto  59408.360271\n",
       "Shares  44034.500000"
      ]
     },
     "execution_count": 26,
     "metadata": {},
     "output_type": "execute_result"
    }
   ],
   "source": [
    "# Set monthly household income\n",
    "\n",
    "monthly_income = 12000\n",
    "\n",
    "# Consolidate financial assets data\n",
    "\n",
    "total_crypto_holdings = btc_value + eth_value\n",
    "total_share_holdings = current_value_agg + current_value_spy\n",
    "\n",
    "  \n",
    "# Create DataFrame  \n",
    "\n",
    "data_frame = {\"Amount\": [total_crypto_holdings, total_share_holdings]}\n",
    "tickers = [\"Crypto\", \"Shares\"]\n",
    "\n",
    "# Print the output.  \n",
    "\n",
    "data_frame\n",
    "\n",
    "# Create savings DataFrame\n",
    "\n",
    "df_savings = pd.DataFrame(data_frame, index=tickers)\n",
    "\n",
    "\n",
    "# Display savings DataFrame\n",
    "\n",
    "df_savings\n"
   ]
  },
  {
   "cell_type": "code",
   "execution_count": 27,
   "metadata": {},
   "outputs": [
    {
     "data": {
      "text/plain": [
       "<AxesSubplot:title={'center':'Savings health analysis'}, ylabel='Amount'>"
      ]
     },
     "execution_count": 27,
     "metadata": {},
     "output_type": "execute_result"
    },
    {
     "data": {
      "image/png": "[encoded data removed]",
      "text/plain": [
       "<Figure size 432x288 with 1 Axes>"
      ]
     },
     "metadata": {},
     "output_type": "display_data"
    }
   ],
   "source": [
    "# Plot savings pie chart\n",
    "\n",
    "df_savings.plot.pie(y=\"Amount\", title=\"Savings health analysis\")"
   ]
  },
  {
   "cell_type": "code",
   "execution_count": 28,
   "metadata": {},
   "outputs": [
    {
     "data": {
      "text/plain": [
       "36000"
      ]
     },
     "execution_count": 28,
     "metadata": {},
     "output_type": "execute_result"
    }
   ],
   "source": [
    "# Set ideal emergency fund\n",
    "\n",
    "emergency_fund = monthly_income * 3\n",
    "emergency_fund"
   ]
  },
  {
   "cell_type": "code",
   "execution_count": 29,
   "metadata": {},
   "outputs": [
    {
     "data": {
      "text/plain": [
       "103442.8602706"
      ]
     },
     "execution_count": 29,
     "metadata": {},
     "output_type": "execute_result"
    }
   ],
   "source": [
    "# Calculate total amount of savings\n",
    "\n",
    "total_savings = total_crypto_holdings + total_share_holdings\n",
    "total_savings"
   ]
  },
  {
   "cell_type": "code",
   "execution_count": 30,
   "metadata": {},
   "outputs": [
    {
     "name": "stdout",
     "output_type": "stream",
     "text": [
      "Well done! Your total savings is higher than the emergency fund. Keep up the great savings\n"
     ]
    }
   ],
   "source": [
    "# Validate saving health\n",
    "\n",
    "if total_savings > emergency_fund:\n",
    "    print(\"Well done! Your total savings is higher than the emergency fund. Keep up the great savings\")\n",
    "elif total_savings == emergency_fund:\n",
    "    print(\"Well done! You have saved enough money to match the emergency fund. Keep up the great savings\")\n",
    "elif total_savings < emergency_fund: \n",
    "    print(f\"You're almost there! You need to save ${total_savings - emergency_fund}\")"
   ]
  },
  {
   "cell_type": "markdown",
   "metadata": {},
   "source": [
    "## Part 2 - Retirement Planning\n",
    "\n",
    "### Monte Carlo Simulation"
   ]
  },
  {
   "cell_type": "code",
   "execution_count": 31,
   "metadata": {},
   "outputs": [],
   "source": [
    "# Set start and end dates of five years back from today.\n",
    "# Sample results may vary from the solution based on the time frame chosen\n",
    "\n",
    "start_date = pd.Timestamp('2016-05-01', tz='America/New_York').isoformat()\n",
    "end_date = pd.Timestamp('2021-05-01', tz='America/New_York').isoformat()"
   ]
  },
  {
   "cell_type": "code",
   "execution_count": 35,
   "metadata": {},
   "outputs": [
    {
     "data": {
      "text/html": [
       "<div>\n",
       "<style scoped>\n",
       "    .dataframe tbody tr th:only-of-type {\n",
       "        vertical-align: middle;\n",
       "    }\n",
       "\n",
       "    .dataframe tbody tr th {\n",
       "        vertical-align: top;\n",
       "    }\n",
       "\n",
       "    .dataframe thead tr th {\n",
       "        text-align: left;\n",
       "    }\n",
       "\n",
       "    .dataframe thead tr:last-of-type th {\n",
       "        text-align: right;\n",
       "    }\n",
       "</style>\n",
       "<table border=\"1\" class=\"dataframe\">\n",
       "  <thead>\n",
       "    <tr>\n",
       "      <th></th>\n",
       "      <th colspan=\"5\" halign=\"left\">AGG</th>\n",
       "      <th colspan=\"5\" halign=\"left\">SPY</th>\n",
       "    </tr>\n",
       "    <tr>\n",
       "      <th></th>\n",
       "      <th>open</th>\n",
       "      <th>high</th>\n",
       "      <th>low</th>\n",
       "      <th>close</th>\n",
       "      <th>volume</th>\n",
       "      <th>open</th>\n",
       "      <th>high</th>\n",
       "      <th>low</th>\n",
       "      <th>close</th>\n",
       "      <th>volume</th>\n",
       "    </tr>\n",
       "    <tr>\n",
       "      <th>time</th>\n",
       "      <th></th>\n",
       "      <th></th>\n",
       "      <th></th>\n",
       "      <th></th>\n",
       "      <th></th>\n",
       "      <th></th>\n",
       "      <th></th>\n",
       "      <th></th>\n",
       "      <th></th>\n",
       "      <th></th>\n",
       "    </tr>\n",
       "  </thead>\n",
       "  <tbody>\n",
       "    <tr>\n",
       "      <th>2017-06-29 00:00:00-04:00</th>\n",
       "      <td>109.530</td>\n",
       "      <td>109.6800</td>\n",
       "      <td>109.465</td>\n",
       "      <td>109.640</td>\n",
       "      <td>2457876.0</td>\n",
       "      <td>NaN</td>\n",
       "      <td>NaN</td>\n",
       "      <td>NaN</td>\n",
       "      <td>NaN</td>\n",
       "      <td>NaN</td>\n",
       "    </tr>\n",
       "    <tr>\n",
       "      <th>2017-06-30 00:00:00-04:00</th>\n",
       "      <td>109.620</td>\n",
       "      <td>109.6273</td>\n",
       "      <td>109.460</td>\n",
       "      <td>109.490</td>\n",
       "      <td>2201175.0</td>\n",
       "      <td>242.26</td>\n",
       "      <td>242.7100</td>\n",
       "      <td>241.575</td>\n",
       "      <td>241.77</td>\n",
       "      <td>50347309.0</td>\n",
       "    </tr>\n",
       "    <tr>\n",
       "      <th>2017-07-03 00:00:00-04:00</th>\n",
       "      <td>109.300</td>\n",
       "      <td>109.3000</td>\n",
       "      <td>109.010</td>\n",
       "      <td>109.080</td>\n",
       "      <td>1681516.0</td>\n",
       "      <td>242.91</td>\n",
       "      <td>243.3800</td>\n",
       "      <td>242.290</td>\n",
       "      <td>242.32</td>\n",
       "      <td>27234078.0</td>\n",
       "    </tr>\n",
       "    <tr>\n",
       "      <th>2017-07-05 00:00:00-04:00</th>\n",
       "      <td>109.080</td>\n",
       "      <td>109.1800</td>\n",
       "      <td>109.000</td>\n",
       "      <td>109.150</td>\n",
       "      <td>2694196.0</td>\n",
       "      <td>242.62</td>\n",
       "      <td>243.0100</td>\n",
       "      <td>241.700</td>\n",
       "      <td>242.77</td>\n",
       "      <td>41067682.0</td>\n",
       "    </tr>\n",
       "    <tr>\n",
       "      <th>2017-07-06 00:00:00-04:00</th>\n",
       "      <td>108.950</td>\n",
       "      <td>109.0000</td>\n",
       "      <td>108.820</td>\n",
       "      <td>108.950</td>\n",
       "      <td>2057393.0</td>\n",
       "      <td>241.88</td>\n",
       "      <td>242.0300</td>\n",
       "      <td>240.340</td>\n",
       "      <td>240.58</td>\n",
       "      <td>52390161.0</td>\n",
       "    </tr>\n",
       "    <tr>\n",
       "      <th>...</th>\n",
       "      <td>...</td>\n",
       "      <td>...</td>\n",
       "      <td>...</td>\n",
       "      <td>...</td>\n",
       "      <td>...</td>\n",
       "      <td>...</td>\n",
       "      <td>...</td>\n",
       "      <td>...</td>\n",
       "      <td>...</td>\n",
       "      <td>...</td>\n",
       "    </tr>\n",
       "    <tr>\n",
       "      <th>2021-06-15 00:00:00-04:00</th>\n",
       "      <td>114.900</td>\n",
       "      <td>115.0200</td>\n",
       "      <td>114.870</td>\n",
       "      <td>114.995</td>\n",
       "      <td>5842592.0</td>\n",
       "      <td>425.43</td>\n",
       "      <td>425.4600</td>\n",
       "      <td>423.540</td>\n",
       "      <td>424.50</td>\n",
       "      <td>42885806.0</td>\n",
       "    </tr>\n",
       "    <tr>\n",
       "      <th>2021-06-16 00:00:00-04:00</th>\n",
       "      <td>115.070</td>\n",
       "      <td>115.1285</td>\n",
       "      <td>114.510</td>\n",
       "      <td>114.630</td>\n",
       "      <td>7527672.0</td>\n",
       "      <td>424.63</td>\n",
       "      <td>424.8700</td>\n",
       "      <td>419.920</td>\n",
       "      <td>422.12</td>\n",
       "      <td>73638324.0</td>\n",
       "    </tr>\n",
       "    <tr>\n",
       "      <th>2021-06-17 00:00:00-04:00</th>\n",
       "      <td>114.792</td>\n",
       "      <td>115.2500</td>\n",
       "      <td>114.785</td>\n",
       "      <td>114.990</td>\n",
       "      <td>7417691.0</td>\n",
       "      <td>421.67</td>\n",
       "      <td>423.0200</td>\n",
       "      <td>419.320</td>\n",
       "      <td>421.97</td>\n",
       "      <td>71991686.0</td>\n",
       "    </tr>\n",
       "    <tr>\n",
       "      <th>2021-06-18 00:00:00-04:00</th>\n",
       "      <td>115.050</td>\n",
       "      <td>115.3900</td>\n",
       "      <td>114.910</td>\n",
       "      <td>115.290</td>\n",
       "      <td>5438261.0</td>\n",
       "      <td>417.08</td>\n",
       "      <td>417.8281</td>\n",
       "      <td>414.700</td>\n",
       "      <td>415.01</td>\n",
       "      <td>92753385.0</td>\n",
       "    </tr>\n",
       "    <tr>\n",
       "      <th>2021-06-21 00:00:00-04:00</th>\n",
       "      <td>115.060</td>\n",
       "      <td>115.1200</td>\n",
       "      <td>114.921</td>\n",
       "      <td>114.960</td>\n",
       "      <td>4934966.0</td>\n",
       "      <td>416.80</td>\n",
       "      <td>421.0600</td>\n",
       "      <td>415.930</td>\n",
       "      <td>420.85</td>\n",
       "      <td>63727942.0</td>\n",
       "    </tr>\n",
       "  </tbody>\n",
       "</table>\n",
       "<p>1001 rows × 10 columns</p>\n",
       "</div>"
      ],
      "text/plain": [
       "                               AGG                                         \\\n",
       "                              open      high      low    close     volume   \n",
       "time                                                                        \n",
       "2017-06-29 00:00:00-04:00  109.530  109.6800  109.465  109.640  2457876.0   \n",
       "2017-06-30 00:00:00-04:00  109.620  109.6273  109.460  109.490  2201175.0   \n",
       "2017-07-03 00:00:00-04:00  109.300  109.3000  109.010  109.080  1681516.0   \n",
       "2017-07-05 00:00:00-04:00  109.080  109.1800  109.000  109.150  2694196.0   \n",
       "2017-07-06 00:00:00-04:00  108.950  109.0000  108.820  108.950  2057393.0   \n",
       "...                            ...       ...      ...      ...        ...   \n",
       "2021-06-15 00:00:00-04:00  114.900  115.0200  114.870  114.995  5842592.0   \n",
       "2021-06-16 00:00:00-04:00  115.070  115.1285  114.510  114.630  7527672.0   \n",
       "2021-06-17 00:00:00-04:00  114.792  115.2500  114.785  114.990  7417691.0   \n",
       "2021-06-18 00:00:00-04:00  115.050  115.3900  114.910  115.290  5438261.0   \n",
       "2021-06-21 00:00:00-04:00  115.060  115.1200  114.921  114.960  4934966.0   \n",
       "\n",
       "                              SPY                                         \n",
       "                             open      high      low   close      volume  \n",
       "time                                                                      \n",
       "2017-06-29 00:00:00-04:00     NaN       NaN      NaN     NaN         NaN  \n",
       "2017-06-30 00:00:00-04:00  242.26  242.7100  241.575  241.77  50347309.0  \n",
       "2017-07-03 00:00:00-04:00  242.91  243.3800  242.290  242.32  27234078.0  \n",
       "2017-07-05 00:00:00-04:00  242.62  243.0100  241.700  242.77  41067682.0  \n",
       "2017-07-06 00:00:00-04:00  241.88  242.0300  240.340  240.58  52390161.0  \n",
       "...                           ...       ...      ...     ...         ...  \n",
       "2021-06-15 00:00:00-04:00  425.43  425.4600  423.540  424.50  42885806.0  \n",
       "2021-06-16 00:00:00-04:00  424.63  424.8700  419.920  422.12  73638324.0  \n",
       "2021-06-17 00:00:00-04:00  421.67  423.0200  419.320  421.97  71991686.0  \n",
       "2021-06-18 00:00:00-04:00  417.08  417.8281  414.700  415.01  92753385.0  \n",
       "2021-06-21 00:00:00-04:00  416.80  421.0600  415.930  420.85  63727942.0  \n",
       "\n",
       "[1001 rows x 10 columns]"
      ]
     },
     "execution_count": 35,
     "metadata": {},
     "output_type": "execute_result"
    }
   ],
   "source": [
    "# Get 5 years' worth of historical data for SPY and AGG\n",
    "\n",
    "tickers = [\"AGG\", \"SPY\"]\n",
    "\n",
    "timeframe = \"1D\"\n",
    "\n",
    "df_portfolio_mc = alpaca.get_barset(\n",
    "    tickers,\n",
    "    timeframe,\n",
    "    start = today,\n",
    "    end = today\n",
    ").df\n",
    "\n",
    "# (use a limit=1000 parameter to call the most recent 1000 days of data)\n",
    "\n",
    "df_portfolio_mc1000 = alpaca.get_barset(\n",
    "    tickers,\n",
    "    timeframe,\n",
    "    start = today,\n",
    "    limit = 1000).df\n",
    "\n",
    "# Display sample data\n",
    "\n",
    "\n",
    "df_portfolio_mc1000"
   ]
  },
  {
   "cell_type": "code",
   "execution_count": 43,
   "metadata": {},
   "outputs": [],
   "source": [
    "# Configuring a Monte Carlo simulation to forecast 30 years cumulative returns\n",
    "\n",
    "mc_thirtyyear = MCSimulation(\n",
    "    portfolio_data = df_portfolio_mc1000,\n",
    "    weights = [.60,.40],\n",
    "    num_simulation = 500,\n",
    "    num_trading_days = 252*30)"
   ]
  },
  {
   "cell_type": "code",
   "execution_count": 44,
   "metadata": {},
   "outputs": [
    {
     "data": {
      "text/html": [
       "<div>\n",
       "<style scoped>\n",
       "    .dataframe tbody tr th:only-of-type {\n",
       "        vertical-align: middle;\n",
       "    }\n",
       "\n",
       "    .dataframe tbody tr th {\n",
       "        vertical-align: top;\n",
       "    }\n",
       "\n",
       "    .dataframe thead tr th {\n",
       "        text-align: left;\n",
       "    }\n",
       "\n",
       "    .dataframe thead tr:last-of-type th {\n",
       "        text-align: right;\n",
       "    }\n",
       "</style>\n",
       "<table border=\"1\" class=\"dataframe\">\n",
       "  <thead>\n",
       "    <tr>\n",
       "      <th></th>\n",
       "      <th colspan=\"6\" halign=\"left\">AGG</th>\n",
       "      <th colspan=\"6\" halign=\"left\">SPY</th>\n",
       "    </tr>\n",
       "    <tr>\n",
       "      <th></th>\n",
       "      <th>open</th>\n",
       "      <th>high</th>\n",
       "      <th>low</th>\n",
       "      <th>close</th>\n",
       "      <th>volume</th>\n",
       "      <th>daily_return</th>\n",
       "      <th>open</th>\n",
       "      <th>high</th>\n",
       "      <th>low</th>\n",
       "      <th>close</th>\n",
       "      <th>volume</th>\n",
       "      <th>daily_return</th>\n",
       "    </tr>\n",
       "    <tr>\n",
       "      <th>time</th>\n",
       "      <th></th>\n",
       "      <th></th>\n",
       "      <th></th>\n",
       "      <th></th>\n",
       "      <th></th>\n",
       "      <th></th>\n",
       "      <th></th>\n",
       "      <th></th>\n",
       "      <th></th>\n",
       "      <th></th>\n",
       "      <th></th>\n",
       "      <th></th>\n",
       "    </tr>\n",
       "  </thead>\n",
       "  <tbody>\n",
       "    <tr>\n",
       "      <th>2017-06-29 00:00:00-04:00</th>\n",
       "      <td>109.53</td>\n",
       "      <td>109.6800</td>\n",
       "      <td>109.465</td>\n",
       "      <td>109.64</td>\n",
       "      <td>2457876.0</td>\n",
       "      <td>NaN</td>\n",
       "      <td>NaN</td>\n",
       "      <td>NaN</td>\n",
       "      <td>NaN</td>\n",
       "      <td>NaN</td>\n",
       "      <td>NaN</td>\n",
       "      <td>NaN</td>\n",
       "    </tr>\n",
       "    <tr>\n",
       "      <th>2017-06-30 00:00:00-04:00</th>\n",
       "      <td>109.62</td>\n",
       "      <td>109.6273</td>\n",
       "      <td>109.460</td>\n",
       "      <td>109.49</td>\n",
       "      <td>2201175.0</td>\n",
       "      <td>-0.001368</td>\n",
       "      <td>242.26</td>\n",
       "      <td>242.71</td>\n",
       "      <td>241.575</td>\n",
       "      <td>241.77</td>\n",
       "      <td>50347309.0</td>\n",
       "      <td>NaN</td>\n",
       "    </tr>\n",
       "    <tr>\n",
       "      <th>2017-07-03 00:00:00-04:00</th>\n",
       "      <td>109.30</td>\n",
       "      <td>109.3000</td>\n",
       "      <td>109.010</td>\n",
       "      <td>109.08</td>\n",
       "      <td>1681516.0</td>\n",
       "      <td>-0.003745</td>\n",
       "      <td>242.91</td>\n",
       "      <td>243.38</td>\n",
       "      <td>242.290</td>\n",
       "      <td>242.32</td>\n",
       "      <td>27234078.0</td>\n",
       "      <td>0.002275</td>\n",
       "    </tr>\n",
       "    <tr>\n",
       "      <th>2017-07-05 00:00:00-04:00</th>\n",
       "      <td>109.08</td>\n",
       "      <td>109.1800</td>\n",
       "      <td>109.000</td>\n",
       "      <td>109.15</td>\n",
       "      <td>2694196.0</td>\n",
       "      <td>0.000642</td>\n",
       "      <td>242.62</td>\n",
       "      <td>243.01</td>\n",
       "      <td>241.700</td>\n",
       "      <td>242.77</td>\n",
       "      <td>41067682.0</td>\n",
       "      <td>0.001857</td>\n",
       "    </tr>\n",
       "    <tr>\n",
       "      <th>2017-07-06 00:00:00-04:00</th>\n",
       "      <td>108.95</td>\n",
       "      <td>109.0000</td>\n",
       "      <td>108.820</td>\n",
       "      <td>108.95</td>\n",
       "      <td>2057393.0</td>\n",
       "      <td>-0.001832</td>\n",
       "      <td>241.88</td>\n",
       "      <td>242.03</td>\n",
       "      <td>240.340</td>\n",
       "      <td>240.58</td>\n",
       "      <td>52390161.0</td>\n",
       "      <td>-0.009021</td>\n",
       "    </tr>\n",
       "  </tbody>\n",
       "</table>\n",
       "</div>"
      ],
      "text/plain": [
       "                              AGG                                        \\\n",
       "                             open      high      low   close     volume   \n",
       "time                                                                      \n",
       "2017-06-29 00:00:00-04:00  109.53  109.6800  109.465  109.64  2457876.0   \n",
       "2017-06-30 00:00:00-04:00  109.62  109.6273  109.460  109.49  2201175.0   \n",
       "2017-07-03 00:00:00-04:00  109.30  109.3000  109.010  109.08  1681516.0   \n",
       "2017-07-05 00:00:00-04:00  109.08  109.1800  109.000  109.15  2694196.0   \n",
       "2017-07-06 00:00:00-04:00  108.95  109.0000  108.820  108.95  2057393.0   \n",
       "\n",
       "                                           SPY                           \\\n",
       "                          daily_return    open    high      low   close   \n",
       "time                                                                      \n",
       "2017-06-29 00:00:00-04:00          NaN     NaN     NaN      NaN     NaN   \n",
       "2017-06-30 00:00:00-04:00    -0.001368  242.26  242.71  241.575  241.77   \n",
       "2017-07-03 00:00:00-04:00    -0.003745  242.91  243.38  242.290  242.32   \n",
       "2017-07-05 00:00:00-04:00     0.000642  242.62  243.01  241.700  242.77   \n",
       "2017-07-06 00:00:00-04:00    -0.001832  241.88  242.03  240.340  240.58   \n",
       "\n",
       "                                                    \n",
       "                               volume daily_return  \n",
       "time                                                \n",
       "2017-06-29 00:00:00-04:00         NaN          NaN  \n",
       "2017-06-30 00:00:00-04:00  50347309.0          NaN  \n",
       "2017-07-03 00:00:00-04:00  27234078.0     0.002275  \n",
       "2017-07-05 00:00:00-04:00  41067682.0     0.001857  \n",
       "2017-07-06 00:00:00-04:00  52390161.0    -0.009021  "
      ]
     },
     "execution_count": 44,
     "metadata": {},
     "output_type": "execute_result"
    }
   ],
   "source": [
    "# Printing the simulation input data\n",
    "\n",
    "mc_thirtyyear.portfolio_data.head() "
   ]
  },
  {
   "cell_type": "code",
   "execution_count": 45,
   "metadata": {},
   "outputs": [
    {
     "name": "stdout",
     "output_type": "stream",
     "text": [
      "Running Monte Carlo simulation number 0.\n",
      "Running Monte Carlo simulation number 10.\n",
      "Running Monte Carlo simulation number 20.\n",
      "Running Monte Carlo simulation number 30.\n",
      "Running Monte Carlo simulation number 40.\n",
      "Running Monte Carlo simulation number 50.\n",
      "Running Monte Carlo simulation number 60.\n",
      "Running Monte Carlo simulation number 70.\n",
      "Running Monte Carlo simulation number 80.\n",
      "Running Monte Carlo simulation number 90.\n",
      "Running Monte Carlo simulation number 100.\n",
      "Running Monte Carlo simulation number 110.\n",
      "Running Monte Carlo simulation number 120.\n",
      "Running Monte Carlo simulation number 130.\n",
      "Running Monte Carlo simulation number 140.\n",
      "Running Monte Carlo simulation number 150.\n",
      "Running Monte Carlo simulation number 160.\n",
      "Running Monte Carlo simulation number 170.\n",
      "Running Monte Carlo simulation number 180.\n",
      "Running Monte Carlo simulation number 190.\n",
      "Running Monte Carlo simulation number 200.\n",
      "Running Monte Carlo simulation number 210.\n",
      "Running Monte Carlo simulation number 220.\n",
      "Running Monte Carlo simulation number 230.\n",
      "Running Monte Carlo simulation number 240.\n",
      "Running Monte Carlo simulation number 250.\n",
      "Running Monte Carlo simulation number 260.\n",
      "Running Monte Carlo simulation number 270.\n",
      "Running Monte Carlo simulation number 280.\n",
      "Running Monte Carlo simulation number 290.\n",
      "Running Monte Carlo simulation number 300.\n",
      "Running Monte Carlo simulation number 310.\n",
      "Running Monte Carlo simulation number 320.\n",
      "Running Monte Carlo simulation number 330.\n",
      "Running Monte Carlo simulation number 340.\n",
      "Running Monte Carlo simulation number 350.\n",
      "Running Monte Carlo simulation number 360.\n",
      "Running Monte Carlo simulation number 370.\n",
      "Running Monte Carlo simulation number 380.\n",
      "Running Monte Carlo simulation number 390.\n",
      "Running Monte Carlo simulation number 400.\n",
      "Running Monte Carlo simulation number 410.\n",
      "Running Monte Carlo simulation number 420.\n",
      "Running Monte Carlo simulation number 430.\n",
      "Running Monte Carlo simulation number 440.\n",
      "Running Monte Carlo simulation number 450.\n",
      "Running Monte Carlo simulation number 460.\n",
      "Running Monte Carlo simulation number 470.\n",
      "Running Monte Carlo simulation number 480.\n",
      "Running Monte Carlo simulation number 490.\n"
     ]
    },
    {
     "data": {
      "text/html": [
       "<div>\n",
       "<style scoped>\n",
       "    .dataframe tbody tr th:only-of-type {\n",
       "        vertical-align: middle;\n",
       "    }\n",
       "\n",
       "    .dataframe tbody tr th {\n",
       "        vertical-align: top;\n",
       "    }\n",
       "\n",
       "    .dataframe thead th {\n",
       "        text-align: right;\n",
       "    }\n",
       "</style>\n",
       "<table border=\"1\" class=\"dataframe\">\n",
       "  <thead>\n",
       "    <tr style=\"text-align: right;\">\n",
       "      <th></th>\n",
       "      <th>0</th>\n",
       "      <th>1</th>\n",
       "      <th>2</th>\n",
       "      <th>3</th>\n",
       "      <th>4</th>\n",
       "      <th>5</th>\n",
       "      <th>6</th>\n",
       "      <th>7</th>\n",
       "      <th>8</th>\n",
       "      <th>9</th>\n",
       "      <th>...</th>\n",
       "      <th>490</th>\n",
       "      <th>491</th>\n",
       "      <th>492</th>\n",
       "      <th>493</th>\n",
       "      <th>494</th>\n",
       "      <th>495</th>\n",
       "      <th>496</th>\n",
       "      <th>497</th>\n",
       "      <th>498</th>\n",
       "      <th>499</th>\n",
       "    </tr>\n",
       "  </thead>\n",
       "  <tbody>\n",
       "    <tr>\n",
       "      <th>0</th>\n",
       "      <td>1.000000</td>\n",
       "      <td>1.000000</td>\n",
       "      <td>1.000000</td>\n",
       "      <td>1.000000</td>\n",
       "      <td>1.000000</td>\n",
       "      <td>1.000000</td>\n",
       "      <td>1.000000</td>\n",
       "      <td>1.000000</td>\n",
       "      <td>1.000000</td>\n",
       "      <td>1.000000</td>\n",
       "      <td>...</td>\n",
       "      <td>1.000000</td>\n",
       "      <td>1.000000</td>\n",
       "      <td>1.000000</td>\n",
       "      <td>1.000000</td>\n",
       "      <td>1.000000</td>\n",
       "      <td>1.000000</td>\n",
       "      <td>1.000000</td>\n",
       "      <td>1.000000</td>\n",
       "      <td>1.000000</td>\n",
       "      <td>1.000000</td>\n",
       "    </tr>\n",
       "    <tr>\n",
       "      <th>1</th>\n",
       "      <td>0.995445</td>\n",
       "      <td>0.999007</td>\n",
       "      <td>0.995553</td>\n",
       "      <td>0.997344</td>\n",
       "      <td>1.009447</td>\n",
       "      <td>1.002294</td>\n",
       "      <td>0.994327</td>\n",
       "      <td>0.988677</td>\n",
       "      <td>1.002352</td>\n",
       "      <td>0.997882</td>\n",
       "      <td>...</td>\n",
       "      <td>0.997085</td>\n",
       "      <td>1.008156</td>\n",
       "      <td>1.001440</td>\n",
       "      <td>0.995549</td>\n",
       "      <td>1.001709</td>\n",
       "      <td>1.000724</td>\n",
       "      <td>0.998779</td>\n",
       "      <td>1.004945</td>\n",
       "      <td>1.005288</td>\n",
       "      <td>1.001491</td>\n",
       "    </tr>\n",
       "    <tr>\n",
       "      <th>2</th>\n",
       "      <td>0.997999</td>\n",
       "      <td>0.997160</td>\n",
       "      <td>0.993256</td>\n",
       "      <td>0.994358</td>\n",
       "      <td>1.012181</td>\n",
       "      <td>1.007390</td>\n",
       "      <td>0.999080</td>\n",
       "      <td>0.992231</td>\n",
       "      <td>1.001647</td>\n",
       "      <td>0.995975</td>\n",
       "      <td>...</td>\n",
       "      <td>1.003387</td>\n",
       "      <td>0.998149</td>\n",
       "      <td>0.998686</td>\n",
       "      <td>1.000794</td>\n",
       "      <td>1.007312</td>\n",
       "      <td>0.999369</td>\n",
       "      <td>0.999234</td>\n",
       "      <td>0.996179</td>\n",
       "      <td>1.012183</td>\n",
       "      <td>1.005352</td>\n",
       "    </tr>\n",
       "    <tr>\n",
       "      <th>3</th>\n",
       "      <td>1.002502</td>\n",
       "      <td>0.993258</td>\n",
       "      <td>0.992467</td>\n",
       "      <td>0.993689</td>\n",
       "      <td>1.015610</td>\n",
       "      <td>1.008859</td>\n",
       "      <td>1.003347</td>\n",
       "      <td>0.996242</td>\n",
       "      <td>1.005590</td>\n",
       "      <td>0.999008</td>\n",
       "      <td>...</td>\n",
       "      <td>1.003969</td>\n",
       "      <td>1.004290</td>\n",
       "      <td>0.993462</td>\n",
       "      <td>1.009171</td>\n",
       "      <td>0.997089</td>\n",
       "      <td>0.998954</td>\n",
       "      <td>1.007287</td>\n",
       "      <td>0.997978</td>\n",
       "      <td>1.004005</td>\n",
       "      <td>1.016713</td>\n",
       "    </tr>\n",
       "    <tr>\n",
       "      <th>4</th>\n",
       "      <td>1.009689</td>\n",
       "      <td>0.993936</td>\n",
       "      <td>0.996938</td>\n",
       "      <td>0.993357</td>\n",
       "      <td>1.018854</td>\n",
       "      <td>1.011481</td>\n",
       "      <td>1.008786</td>\n",
       "      <td>0.991199</td>\n",
       "      <td>1.005961</td>\n",
       "      <td>1.000218</td>\n",
       "      <td>...</td>\n",
       "      <td>1.001659</td>\n",
       "      <td>1.007344</td>\n",
       "      <td>0.991032</td>\n",
       "      <td>1.010915</td>\n",
       "      <td>0.992366</td>\n",
       "      <td>0.989442</td>\n",
       "      <td>1.007057</td>\n",
       "      <td>0.998376</td>\n",
       "      <td>1.008370</td>\n",
       "      <td>1.012278</td>\n",
       "    </tr>\n",
       "    <tr>\n",
       "      <th>...</th>\n",
       "      <td>...</td>\n",
       "      <td>...</td>\n",
       "      <td>...</td>\n",
       "      <td>...</td>\n",
       "      <td>...</td>\n",
       "      <td>...</td>\n",
       "      <td>...</td>\n",
       "      <td>...</td>\n",
       "      <td>...</td>\n",
       "      <td>...</td>\n",
       "      <td>...</td>\n",
       "      <td>...</td>\n",
       "      <td>...</td>\n",
       "      <td>...</td>\n",
       "      <td>...</td>\n",
       "      <td>...</td>\n",
       "      <td>...</td>\n",
       "      <td>...</td>\n",
       "      <td>...</td>\n",
       "      <td>...</td>\n",
       "      <td>...</td>\n",
       "    </tr>\n",
       "    <tr>\n",
       "      <th>7556</th>\n",
       "      <td>3.578872</td>\n",
       "      <td>8.448221</td>\n",
       "      <td>10.220021</td>\n",
       "      <td>3.536006</td>\n",
       "      <td>3.999024</td>\n",
       "      <td>2.251419</td>\n",
       "      <td>11.084357</td>\n",
       "      <td>9.367595</td>\n",
       "      <td>4.530050</td>\n",
       "      <td>11.138055</td>\n",
       "      <td>...</td>\n",
       "      <td>5.393749</td>\n",
       "      <td>10.689369</td>\n",
       "      <td>4.878394</td>\n",
       "      <td>9.823231</td>\n",
       "      <td>11.115481</td>\n",
       "      <td>2.776495</td>\n",
       "      <td>5.811867</td>\n",
       "      <td>6.111381</td>\n",
       "      <td>7.495661</td>\n",
       "      <td>4.230570</td>\n",
       "    </tr>\n",
       "    <tr>\n",
       "      <th>7557</th>\n",
       "      <td>3.576109</td>\n",
       "      <td>8.412062</td>\n",
       "      <td>10.222427</td>\n",
       "      <td>3.517149</td>\n",
       "      <td>3.998028</td>\n",
       "      <td>2.264395</td>\n",
       "      <td>11.069201</td>\n",
       "      <td>9.391828</td>\n",
       "      <td>4.508503</td>\n",
       "      <td>11.199888</td>\n",
       "      <td>...</td>\n",
       "      <td>5.364710</td>\n",
       "      <td>10.685582</td>\n",
       "      <td>4.858887</td>\n",
       "      <td>9.821100</td>\n",
       "      <td>11.043444</td>\n",
       "      <td>2.755274</td>\n",
       "      <td>5.838357</td>\n",
       "      <td>6.216701</td>\n",
       "      <td>7.484302</td>\n",
       "      <td>4.232794</td>\n",
       "    </tr>\n",
       "    <tr>\n",
       "      <th>7558</th>\n",
       "      <td>3.592772</td>\n",
       "      <td>8.385297</td>\n",
       "      <td>10.173228</td>\n",
       "      <td>3.531380</td>\n",
       "      <td>3.983380</td>\n",
       "      <td>2.252120</td>\n",
       "      <td>11.046034</td>\n",
       "      <td>9.440393</td>\n",
       "      <td>4.518590</td>\n",
       "      <td>11.221368</td>\n",
       "      <td>...</td>\n",
       "      <td>5.361833</td>\n",
       "      <td>10.733580</td>\n",
       "      <td>4.871127</td>\n",
       "      <td>9.791280</td>\n",
       "      <td>11.038974</td>\n",
       "      <td>2.743513</td>\n",
       "      <td>5.857674</td>\n",
       "      <td>6.283859</td>\n",
       "      <td>7.476347</td>\n",
       "      <td>4.258282</td>\n",
       "    </tr>\n",
       "    <tr>\n",
       "      <th>7559</th>\n",
       "      <td>3.599778</td>\n",
       "      <td>8.487584</td>\n",
       "      <td>10.065876</td>\n",
       "      <td>3.533057</td>\n",
       "      <td>4.073717</td>\n",
       "      <td>2.257482</td>\n",
       "      <td>10.987554</td>\n",
       "      <td>9.514998</td>\n",
       "      <td>4.520498</td>\n",
       "      <td>11.211513</td>\n",
       "      <td>...</td>\n",
       "      <td>5.339283</td>\n",
       "      <td>10.843916</td>\n",
       "      <td>4.885431</td>\n",
       "      <td>9.788955</td>\n",
       "      <td>10.987704</td>\n",
       "      <td>2.757751</td>\n",
       "      <td>5.825671</td>\n",
       "      <td>6.313266</td>\n",
       "      <td>7.466664</td>\n",
       "      <td>4.238212</td>\n",
       "    </tr>\n",
       "    <tr>\n",
       "      <th>7560</th>\n",
       "      <td>3.594721</td>\n",
       "      <td>8.505973</td>\n",
       "      <td>10.056932</td>\n",
       "      <td>3.563030</td>\n",
       "      <td>4.060993</td>\n",
       "      <td>2.238041</td>\n",
       "      <td>10.959596</td>\n",
       "      <td>9.494063</td>\n",
       "      <td>4.496494</td>\n",
       "      <td>11.229879</td>\n",
       "      <td>...</td>\n",
       "      <td>5.339452</td>\n",
       "      <td>10.811162</td>\n",
       "      <td>4.815490</td>\n",
       "      <td>9.739682</td>\n",
       "      <td>11.011517</td>\n",
       "      <td>2.764486</td>\n",
       "      <td>5.795633</td>\n",
       "      <td>6.312132</td>\n",
       "      <td>7.475796</td>\n",
       "      <td>4.244903</td>\n",
       "    </tr>\n",
       "  </tbody>\n",
       "</table>\n",
       "<p>7561 rows × 500 columns</p>\n",
       "</div>"
      ],
      "text/plain": [
       "           0         1          2         3         4         5          6    \\\n",
       "0     1.000000  1.000000   1.000000  1.000000  1.000000  1.000000   1.000000   \n",
       "1     0.995445  0.999007   0.995553  0.997344  1.009447  1.002294   0.994327   \n",
       "2     0.997999  0.997160   0.993256  0.994358  1.012181  1.007390   0.999080   \n",
       "3     1.002502  0.993258   0.992467  0.993689  1.015610  1.008859   1.003347   \n",
       "4     1.009689  0.993936   0.996938  0.993357  1.018854  1.011481   1.008786   \n",
       "...        ...       ...        ...       ...       ...       ...        ...   \n",
       "7556  3.578872  8.448221  10.220021  3.536006  3.999024  2.251419  11.084357   \n",
       "7557  3.576109  8.412062  10.222427  3.517149  3.998028  2.264395  11.069201   \n",
       "7558  3.592772  8.385297  10.173228  3.531380  3.983380  2.252120  11.046034   \n",
       "7559  3.599778  8.487584  10.065876  3.533057  4.073717  2.257482  10.987554   \n",
       "7560  3.594721  8.505973  10.056932  3.563030  4.060993  2.238041  10.959596   \n",
       "\n",
       "           7         8          9    ...       490        491       492  \\\n",
       "0     1.000000  1.000000   1.000000  ...  1.000000   1.000000  1.000000   \n",
       "1     0.988677  1.002352   0.997882  ...  0.997085   1.008156  1.001440   \n",
       "2     0.992231  1.001647   0.995975  ...  1.003387   0.998149  0.998686   \n",
       "3     0.996242  1.005590   0.999008  ...  1.003969   1.004290  0.993462   \n",
       "4     0.991199  1.005961   1.000218  ...  1.001659   1.007344  0.991032   \n",
       "...        ...       ...        ...  ...       ...        ...       ...   \n",
       "7556  9.367595  4.530050  11.138055  ...  5.393749  10.689369  4.878394   \n",
       "7557  9.391828  4.508503  11.199888  ...  5.364710  10.685582  4.858887   \n",
       "7558  9.440393  4.518590  11.221368  ...  5.361833  10.733580  4.871127   \n",
       "7559  9.514998  4.520498  11.211513  ...  5.339283  10.843916  4.885431   \n",
       "7560  9.494063  4.496494  11.229879  ...  5.339452  10.811162  4.815490   \n",
       "\n",
       "           493        494       495       496       497       498       499  \n",
       "0     1.000000   1.000000  1.000000  1.000000  1.000000  1.000000  1.000000  \n",
       "1     0.995549   1.001709  1.000724  0.998779  1.004945  1.005288  1.001491  \n",
       "2     1.000794   1.007312  0.999369  0.999234  0.996179  1.012183  1.005352  \n",
       "3     1.009171   0.997089  0.998954  1.007287  0.997978  1.004005  1.016713  \n",
       "4     1.010915   0.992366  0.989442  1.007057  0.998376  1.008370  1.012278  \n",
       "...        ...        ...       ...       ...       ...       ...       ...  \n",
       "7556  9.823231  11.115481  2.776495  5.811867  6.111381  7.495661  4.230570  \n",
       "7557  9.821100  11.043444  2.755274  5.838357  6.216701  7.484302  4.232794  \n",
       "7558  9.791280  11.038974  2.743513  5.857674  6.283859  7.476347  4.258282  \n",
       "7559  9.788955  10.987704  2.757751  5.825671  6.313266  7.466664  4.238212  \n",
       "7560  9.739682  11.011517  2.764486  5.795633  6.312132  7.475796  4.244903  \n",
       "\n",
       "[7561 rows x 500 columns]"
      ]
     },
     "execution_count": 45,
     "metadata": {},
     "output_type": "execute_result"
    }
   ],
   "source": [
    "# Running a Monte Carlo simulation to forecast 30 years cumulative returns\n",
    "\n",
    "mc_thirtyyear.calc_cumulative_return()"
   ]
  },
  {
   "cell_type": "code",
   "execution_count": 46,
   "metadata": {},
   "outputs": [
    {
     "data": {
      "image/png": "[encoded data removed]",
      "text/plain": [
       "<Figure size 432x288 with 1 Axes>"
      ]
     },
     "metadata": {
      "needs_background": "light"
     },
     "output_type": "display_data"
    }
   ],
   "source": [
    "# Plot simulation outcomes\n",
    "\n",
    "line_plot = mc_thirtyyear.plot_simulation()"
   ]
  },
  {
   "cell_type": "code",
   "execution_count": 47,
   "metadata": {},
   "outputs": [
    {
     "data": {
      "image/png": "[encoded data removed]",
      "text/plain": [
       "<Figure size 432x288 with 1 Axes>"
      ]
     },
     "metadata": {
      "needs_background": "light"
     },
     "output_type": "display_data"
    }
   ],
   "source": [
    "# Plot probability distribution and confidence intervals\n",
    "\n",
    "dist_plot = mc_thirtyyear.plot_distribution()"
   ]
  },
  {
   "cell_type": "markdown",
   "metadata": {},
   "source": [
    "### Retirement Analysis"
   ]
  },
  {
   "cell_type": "code",
   "execution_count": 48,
   "metadata": {},
   "outputs": [
    {
     "name": "stdout",
     "output_type": "stream",
     "text": [
      "count           500.000000\n",
      "mean              8.687168\n",
      "std               4.264782\n",
      "min               1.608413\n",
      "25%               5.773706\n",
      "50%               7.996679\n",
      "75%              10.816906\n",
      "max              28.984030\n",
      "95% CI Lower      2.706407\n",
      "95% CI Upper     19.927192\n",
      "Name: 7560, dtype: float64\n"
     ]
    }
   ],
   "source": [
    "# Fetch summary statistics from the Monte Carlo simulation results\n",
    "\n",
    "tbl = mc_thirtyyear.summarize_cumulative_return()\n",
    "\n",
    "# Print summary statistics\n",
    "\n",
    "print(tbl)\n"
   ]
  },
  {
   "cell_type": "markdown",
   "metadata": {},
   "source": [
    "### Calculate the expected portfolio return at the `95%` lower and upper confidence intervals based on a `$20,000` initial investment."
   ]
  },
  {
   "cell_type": "code",
   "execution_count": 52,
   "metadata": {},
   "outputs": [
    {
     "name": "stdout",
     "output_type": "stream",
     "text": [
      "There is a 95% chance that an initial investment of $20000 in the portfolio over the next 30 years will end within in the range of $54128.14 and $398543.84\n"
     ]
    }
   ],
   "source": [
    "# Set initial investment\n",
    "\n",
    "initial_investment = 20000\n",
    "\n",
    "# Use the lower and upper `95%` confidence intervals to calculate the range of the possible outcomes of our $20,000\n",
    "\n",
    "ci_lower = round(tbl[8]* initial_investment,2)\n",
    "ci_upper = round(tbl[9]* initial_investment,2)\n",
    "\n",
    "# Print results\n",
    "\n",
    "print(f\"There is a 95% chance that an initial investment of ${initial_investment} in the portfolio\"\n",
    "      f\" over the next 30 years will end within in the range of\"\n",
    "      f\" ${ci_lower} and ${ci_upper}\")"
   ]
  },
  {
   "cell_type": "markdown",
   "metadata": {},
   "source": [
    "### Calculate the expected portfolio return at the `95%` lower and upper confidence intervals based on a `50%` increase in the initial investment."
   ]
  },
  {
   "cell_type": "code",
   "execution_count": 54,
   "metadata": {},
   "outputs": [
    {
     "name": "stdout",
     "output_type": "stream",
     "text": [
      "There is a 95% chance that an initial investment of $30000.0 in the portfolio over the next 30 years will end within in the range of $81192.21 and $597815.76\n"
     ]
    }
   ],
   "source": [
    "# Set initial investment\n",
    "initial_investment_50 = 20000 * 1.5\n",
    "\n",
    "# Use the lower and upper `95%` confidence intervals to calculate the range of the possible outcomes of our $30,000\n",
    "\n",
    "ci_lower = round(tbl[8]* initial_investment_50,2)\n",
    "ci_upper = round(tbl[9]* initial_investment_50,2)\n",
    "\n",
    "# Print results\n",
    "print(f\"There is a 95% chance that an initial investment of ${initial_investment_50} in the portfolio\"\n",
    "      f\" over the next 30 years will end within in the range of\"\n",
    "      f\" ${ci_lower} and ${ci_upper}\")"
   ]
  },
  {
   "cell_type": "markdown",
   "metadata": {},
   "source": [
    "## Optional Challenge - Early Retirement\n",
    "\n",
    "\n",
    "### Five Years Retirement Option"
   ]
  },
  {
   "cell_type": "code",
   "execution_count": null,
   "metadata": {},
   "outputs": [],
   "source": [
    "# Configuring a Monte Carlo simulation to forecast 5 years cumulative returns\n",
    "# YOUR CODE HERE!"
   ]
  },
  {
   "cell_type": "code",
   "execution_count": null,
   "metadata": {},
   "outputs": [],
   "source": [
    "# Running a Monte Carlo simulation to forecast 5 years cumulative returns\n",
    "# YOUR CODE HERE!"
   ]
  },
  {
   "cell_type": "code",
   "execution_count": null,
   "metadata": {},
   "outputs": [],
   "source": [
    "# Plot simulation outcomes\n",
    "# YOUR CODE HERE!"
   ]
  },
  {
   "cell_type": "code",
   "execution_count": null,
   "metadata": {},
   "outputs": [],
   "source": [
    "# Plot probability distribution and confidence intervals\n",
    "# YOUR CODE HERE!"
   ]
  },
  {
   "cell_type": "code",
   "execution_count": null,
   "metadata": {},
   "outputs": [],
   "source": [
    "# Fetch summary statistics from the Monte Carlo simulation results\n",
    "# YOUR CODE HERE!\n",
    "\n",
    "# Print summary statistics\n",
    "# YOUR CODE HERE!"
   ]
  },
  {
   "cell_type": "code",
   "execution_count": null,
   "metadata": {},
   "outputs": [],
   "source": [
    "# Set initial investment\n",
    "# YOUR CODE HERE!\n",
    "\n",
    "# Use the lower and upper `95%` confidence intervals to calculate the range of the possible outcomes of our $60,000\n",
    "# YOUR CODE HERE!\n",
    "\n",
    "# Print results\n",
    "print(f\"There is a 95% chance that an initial investment of ${initial_investment} in the portfolio\"\n",
    "      f\" over the next 5 years will end within in the range of\"\n",
    "      f\" ${ci_lower_five} and ${ci_upper_five}\")"
   ]
  },
  {
   "cell_type": "markdown",
   "metadata": {},
   "source": [
    "### Ten Years Retirement Option"
   ]
  },
  {
   "cell_type": "code",
   "execution_count": null,
   "metadata": {},
   "outputs": [],
   "source": [
    "# Configuring a Monte Carlo simulation to forecast 10 years cumulative returns\n",
    "# YOUR CODE HERE!"
   ]
  },
  {
   "cell_type": "code",
   "execution_count": null,
   "metadata": {},
   "outputs": [],
   "source": [
    "# Running a Monte Carlo simulation to forecast 10 years cumulative returns\n",
    "# YOUR CODE HERE!"
   ]
  },
  {
   "cell_type": "code",
   "execution_count": null,
   "metadata": {},
   "outputs": [],
   "source": [
    "# Plot simulation outcomes\n",
    "# YOUR CODE HERE!"
   ]
  },
  {
   "cell_type": "code",
   "execution_count": null,
   "metadata": {},
   "outputs": [],
   "source": [
    "# Plot probability distribution and confidence intervals\n",
    "# YOUR CODE HERE!"
   ]
  },
  {
   "cell_type": "code",
   "execution_count": null,
   "metadata": {},
   "outputs": [],
   "source": [
    "# Fetch summary statistics from the Monte Carlo simulation results\n",
    "# YOUR CODE HERE!\n",
    "\n",
    "# Print summary statistics\n",
    "# YOUR CODE HERE!"
   ]
  },
  {
   "cell_type": "code",
   "execution_count": null,
   "metadata": {},
   "outputs": [],
   "source": [
    "# Set initial investment\n",
    "# YOUR CODE HERE!\n",
    "\n",
    "# Use the lower and upper `95%` confidence intervals to calculate the range of the possible outcomes of our $60,000\n",
    "# YOUR CODE HERE!\n",
    "\n",
    "# Print results\n",
    "print(f\"There is a 95% chance that an initial investment of ${initial_investment} in the portfolio\"\n",
    "      f\" over the next 10 years will end within in the range of\"\n",
    "      f\" ${ci_lower_ten} and ${ci_upper_ten}\")"
   ]
  },
  {
   "cell_type": "code",
   "execution_count": null,
   "metadata": {},
   "outputs": [],
   "source": []
  }
 ],
 "metadata": {
  "kernelspec": {
   "display_name": "Python 3",
   "language": "python",
   "name": "python3"
  },
  "language_info": {
   "codemirror_mode": {
    "name": "ipython",
    "version": 3
   },
   "file_extension": ".py",
   "mimetype": "text/x-python",
   "name": "python",
   "nbconvert_exporter": "python",
   "pygments_lexer": "ipython3",
   "version": "3.8.5"
  },
  "nteract": {
   "version": "0.28.0"
  }
 },
 "nbformat": 4,
 "nbformat_minor": 4
}
